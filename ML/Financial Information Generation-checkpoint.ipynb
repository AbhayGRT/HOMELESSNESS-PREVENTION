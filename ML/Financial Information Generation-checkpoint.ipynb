{
 "cells": [
  {
   "cell_type": "markdown",
   "metadata": {
    "id": "SfoINKjDEdae"
   },
   "source": [
    "lets start building the chatbot....!"
   ]
  },
  {
   "cell_type": "markdown",
   "metadata": {
    "id": "9F6LAjaOEYEm"
   },
   "source": [
    "below is the data.\n",
    "I manually prepared it in teh form of a dictionary and saved the same as a json file."
   ]
  },
  {
   "cell_type": "code",
   "execution_count": 1,
   "metadata": {
    "id": "mwMZMgLZ9QL6"
   },
   "outputs": [],
   "source": [
    "data={\"intents\":[\n",
    "{\"tag\": \"welcome\",\n",
    "\"patterns\":[\"Hi\",\"Hello\",\"How are you\",\"whats up\", \"How do you do\",\"How’s the day?\",\"Hey are you there\",\"How is everything going\",\"glad to meet you\"],\n",
    "\"responses\":[\"Hello\",\"Glad to see you again\", \"Hi there, How can I help  you\", \"Hello! what you are looking for?\", \"Hello, how may I help you\"],\n",
    "},\n",
    "{\"tag\": \"endingnote\",\n",
    "\"patterns\":[\"see you. bye\",\"Good Bye\",\"ok then bye\",\"That’ s enough for me\",\" Im leaving\",\"See u later! Goodbye\",\"nice to meet you\" , \"The bargaining session was fun!I’m happy that I got it at cheap price, see u again\",\"Enjoyed the experience, good bye\"],\n",
    "\"responses\":[\"Hey, Thank you for visiting\",\"Hope to see you again, it was nice talking with you\", \" wish you a good day! Hope to have a talk with you later\",\"Thanks for your time with us.Hope you enjoyed it and satisfied. See you later\", \"Sad to see you go. Come whenever you need to bye from us. Stay intouch.\"],\n",
    "},\n",
    "{\"tag\": \"name\",\n",
    "\"patterns\":[\"whats you name?\",\"who are you?\",\"what can I call you\",\"tell me your name\",\"Are u a robot\",\"Are you a chatbot\"],\n",
    "\"responses\":[\"It’s FinBot here, a digital+financial assistant to help you out\",\"You can call me FinBot.Im a chatRobot/chatbot, tell me what you want\", \"I’m FinBot,a digital+financial assistant, I can guide you in our ecommerce website.\", \"Its FinBot Here,a digital +financial assistant. How may I help you?\"],\n",
    "},\n",
    "{\"tag\": \"shopping\",\n",
    "\"patterns\":[\"I would like to buy something here\",\"can I buy something\",\"What all things are there\",\"can you recommend me something from here\",\"is there any thing cheaper here\",\"Hey, I want a black shoe\"],\n",
    "\"responses\":[\"Yes please, we have a lot of new collections for you\",\"Ofcourse, there are new offers for you, fantastic selections, choose what interests you!\",\"Well casual shoes at Rs 220, this offer won’t stay much\",\"there are good varieties of coloured shoes too also there are black formal shoes. Take one\"],\n",
    "},\n",
    "{\"tag\": \"time period\",\n",
    "\"patterns\":[\"till what time this be offered?\",\"When will the shop close?\",\"when will the shop open\",\"How much time it will take for delivery\",\"When will this site close?\",\"When are you people open\",\"When will this store be open?\", \"Is this store will be open at Sunday?\"],\n",
    "\"responses\":[\"Our shop centre will be open from 9 am-9pm in all the days\",\"Yes, we are operating on all the weekdays from 9 am to 9pm\", \"We are there to provide services from Monday-sunday from 9 am-9pm\",\"We are operating from 9 am-9 pm every day\"],\n",
    "},\n",
    "{\"tag\": \"location\",\n",
    "\"patterns\": [\"What is your location?\", \"Where are you located?\", \"What is your address?\", \"Where is your restaurant situated?\" ],\n",
    "\"responses\": [\"We are on the intersection of state Alley and Techno Avenue, Delhi, India\", \"We are situated at the intersection of  state Alley and Techno Avenue in Delhi, India\", \"Our Address is: 1000 Techno Avenue, Delhi, India\"],\n",
    "},\n",
    "{\"tag\": \"payments\",\n",
    "\"patterns\": [\"Do you take credit cards?\", \"Do you accept Mastercard?\", \"Are you cash only?\",\"will you accept credit card\", \"can i pay by credit card\" ],\n",
    "\"responses\": [\"We accept VISA, Mastercard and AMEX\", \"We accept most major credit cards\"],\n",
    "},\n",
    "{\"tag\": \"todaysOffers\",\n",
    "\"patterns\": [\"What is the new collections for today?\", \"What new collections you have today?\", \"Tell me today's collection\"],\n",
    "\"responses\": [\"We have buy one get one offer for kurtis and shirts. Also new colour selections of traditional wears\", \"Our speciality for today is trendy new collections of traditional wears and also buy one get one offer for some things\"],\n",
    "},\n",
    "{\"tag\": \"deliveryoption\",\n",
    "\"patterns\": [\"Do you provide delivery to home?\", \"Do you deliver the clothes?\", \"What are the home delivery options?\",\"Tell me the delivery options you have\" ],\n",
    "\"responses\": [\"Yes, we provide home delivery of the proiducts through our agents?\", \"We have home delivery options through our agents\"],\n",
    "},\n",
    "{\"tag\": \"price of formal wear\",\n",
    "\"patterns\":[\"what is the price for a formal wear\",\"How much will it cost to buy a formal wear\",\"Will it be much expensive to buy a branded suit, how much is the average cost\"],\n",
    "\"responses\":[\"For  a formal wear it will cost in a range of 750-2500 Rs according to your selection\",\"There are a number of varieties of suits or formal wears ranging from 500-1500\",\"Its not much expensive to have the same. There are several discounts available\", \"it has an average cost of 1200 Rs\"],\n",
    "},\n",
    "{\"tag\": \"price of a saree\",\n",
    "\"patterns\": [\"what is the price for a saree\",\"How much will it cost to buy a saree\",\"What is the cost of a saree\",\"Cost of a saree\",\"Price of a saree\"],\n",
    "\"responses\": [\"The price of saree depends upon the colour and design of the same \", \"We have collections of trending sarees ranging from 500Rs to 10000 Rs\"],\n",
    "\"context_set\": \"\"\n",
    "},\n",
    "{\"tag\": \"Thank you\",\n",
    "\"patterns\":[\"Thank you\", \"Thank you so much for your help\"],\n",
    "\"responses\":[\"Its my pleasure.\",\"You are welcome\",\"No problem. Its my pleasure to help you\"],\n",
    "},\n",
    "{\"tag\": \"Bargain offer\",\n",
    "\"patterns\":[\"Can i bargain for any product today\",\"For what product do you have bargaining offer today\",\"can you bargain today\",\"can I bargain today\", \"Which product can I bargain today\",\"Tell me is there a product to bargain\"],\n",
    "\"responses\":[\"Yes, we have a bargaining offer for ribbon today. Its rated price is 30 Rs\",\"yes, today you can bargaining for a ribbon. its rated price is 30 Rs\"],\n",
    "},\n",
    "{\"tag\": \"bitcoin\",\n",
    "\"patterns\":[\"tell me the value of a bitcoin\",\"what is bitcoin\",\"Can you tell more about bitcoin?\",\"What can be bitcoin\",\"what do you mean by bitcoin\"],\n",
    "\"responses\":[\"1 Bitcoin equals 14,14,998.64 Indian Rupee\",\"Bitcoin is a digital or virtual currency created in 2009 that uses peer-to-peer technology to facilitate instant payments\",\"Bitcoin is a cryptocurrency created in 2009. Marketplaces called “bitcoin exchanges” allow people to buy or sell bitcoins using different currencies\"],\n",
    "},\n",
    "{\"tag\": \"AsymmetricInformation\",\n",
    "\"patterns\":[\"what is Asymmetric Information\",\"Tell me about Asymmetric information in finance markets\",\"Do you know about Asymmetric information\",\"What can be Asymmetric information\",\"what do you mean by Asymmetric information\"],\n",
    "\"responses\":[\"It is a type of market failure exists when one individual or party has much more information than another individual or party, and uses that advantage to exploit the other party.\",\"Finance is a market in information – often a potential borrower (such as a small business) has better information on the likelihood that they will be able to repay a loan than the lender.\"],\n",
    "},\n",
    "{\"tag\": \"bail-out\",\n",
    "\"patterns\":[\"what is bail-out\",\"Do you know about bail-out in financial markets\",\"Tell me about bailout\",\"What does critics and supporter say about bail-out\",\"bail-out\"],\n",
    "\"responses\":[\"A bail-out happens when a government buys an equity stake in a bank or some other form of financial support to prevent it from failing\",\"Critics of bail-outs argue that it can increase the burden facing taxpayers and also increase the risk of moral hazard.Supporters of bail-outs claim that they are sometimes necessary during a financial crisis to help reduce systemic risk.\",\" Bail outs have become prominent once again because of the economic and social consequences of the coronavirus crisis.\"],\n",
    "},\n",
    "{\"tag\": \"Balance sheet\",\n",
    "\"patterns\":[\"what is a balance sheet\",\"Tell me about Balance sheet\",\"Do you know Balance sheet?\",\"Balance sheet\",\"What can be Balance sheet\",\"what do you mean by Balance sheet\"],\n",
    "\"responses\":[\"A record of the assets, liabilities, and net worth of an economic actor such as a household, commercial or central bank, firm, or government\",\"A balance sheet is a financial statement that reports a company's assets, liabilities and shareholders' equity.\",\"The balance sheet is one of the three (income statement and statement of cash flows being the other two) core financial statements used to evaluate a business.\"],\n",
    "},\n",
    "{\"tag\": \"bank\",\n",
    "\"patterns\":[\"what is a bank\",\"What exactly bank does\",\"can you tell me about bank\",\"bank\",\"What can be bank\",\"what do you mean by bank\"],\n",
    "\"responses\":[\"A bank in simple terms is a business that makes its profit by paying interest to those who keep money there and charging a higher rate of interest to people/businesses who borrow money from the bank\"],\n",
    "},\n",
    "{\"tag\": \"bank assests\",\n",
    "\"patterns\":[\"what are bank assets\",\"Tell me about bank assets\",\"what is bank asset\",\"bank assets\",\"what is mean by bank assets\",\"bank assets\",\"What can be bank assets\",\"what do you mean by bank assets\"],\n",
    "\"responses\":[\"Assets are “owned” by the bank e.g. cash, balances at Bank of England, loans (Advances), securities (e.g. Bonds) and fixed assets.\"],\n",
    "},\n",
    "{\"tag\": \"Bank capital\",\n",
    "\"patterns\":[\"what is mean by bank capital?\", \"do you know bank capital?\",\"what is bank capital\",\"bank capital\",\"Tell me about Bank capital\",\"What can be Bank capital\",\"what do you mean by Bank capital\"],\n",
    "\"responses\":[\"Bank capital is the value of the bank's assets minus its liabilities, or debts.\"],\n",
    "},\n",
    "{\"tag\": \"Bond market\",\n",
    "\"patterns\":[\"what is mean by bond market?\", \"do you know bond market?\",\"what is bond market?\",\"Bond Market\",\"What can be Bond Market\",\"what do you mean by Bank Market\"],\n",
    "\"responses\":[\"The bond market broadly describes a marketplace where investors buy debt securities that are brought to the market by either governmental entities or publicly-traded corporations\",\"The market for interest-bearing securities (with either a fixed or a floating rate and with a maturity of at least one year) that companies and governments issue to raise capital for investment.\"],\n",
    "},\n",
    "{\"tag\": \"Bank Run\",\n",
    "\"patterns\":[\"what is mean by Bank Run?\", \"What is bank run and how it occurs?\",\"Do you know about bank run?\",\"Bank Run\",\"What can be bank run\",\"what do you mean by bank run\"],\n",
    "\"responses\":[\"A situation in which depositors withdraw funds from a commercial bank because they fear that it may go bankrupt and not honour its liabilities such as the deposits of the bank's savers.\",\"A bank run occurs when a large number of customers of a bank or other financial institution withdraw their deposits simultaneously over concerns of the bank's solvency.\"],\n",
    "},\n",
    "{\"tag\": \"Bank reserves\",\n",
    "\"patterns\":[\"what is mean by bank reserves?\", \"do you know bank reserves?\",\"Bank reserves and how it works\",\"what is bank reserves\",\"Bank reserves\",\"What can be Bank reserves\",\"what do you mean by Bank reserves\"],\n",
    "\"responses\":[\"Money and liquid assets (such as securities that can be sold quickly) held by banks in order to meet withdrawals by customers.\",\"Bank reserves are the cash minimums that must be kept on hand by financial institutions in order to meet central bank requirements\"],\n",
    "},\n",
    "{\"tag\": \"Capital market\",\n",
    "\"patterns\":[\"what is mean by a capital market?\", \"capital market?\", \"do you know Capital market?\",\"Tell me about capital market\",\"capital market\",\"What can be capital market\",\"what do you mean by capital market\"],\n",
    "\"responses\":[\"Capital markets are the markets where securities such as shares and bonds are issued to raise medium to long-term financing.\"],\n",
    "},\n",
    "{\"tag\": \"Capital ratio\",\n",
    "\"patterns\":[\"what is mean by capital ratio?\", \"do you know Capital ratio?\",\"Tell me about capital ratio\",\"capital ratio\",\"What can be capital ratio\",\"what do you mean by capital ratio\"],\n",
    "\"responses\":[\"A commercial bank's capital ratio measures the funds it has in reserve against the riskier assets it holds that could be vulnerable in the event of a crisis.\",\"the extent to which a financial institution finances its operations by issuing shares and retaining profits, expressed as a percentage of its assets.\"],\n",
    "},\n",
    "{\"tag\": \"Credit risk\",\n",
    "\"patterns\":[\"what is mean by credit risk?\", \"do you know credit risk?\",\"Tell me about credit risk\",\"what is credit risk\",\"credit risk\",\"What can be credit risk\",\"what do you mean by credit risk\"],\n",
    "\"responses\":[\"Credit risk is the possibility of a loss resulting from a borrower's failure to repay a loan or meet contractual obligations\",\"This is the risk to the commercial bank of lending to borrowers who turn out to be unable to repay their loans.\"],\n",
    "},\n",
    "{\"tag\": \"Crowdfunding\",\n",
    "\"patterns\":[\"what is mean by crowdfunding?\", \"do you know crowdfunding?\",\"Tell me about crowdfunding\",\"what is crowdfunding?\",\"crowdfunding\",\"What can be crowdfunding\",\"what do you mean by crowdfunding\"],\n",
    "\"responses\":[\"Crowdfunding is a form of equity finance that has grown rapidly in the USA and the UK in particular.\",\"Crowdfunding involves the collective effort of a large number of individuals who network and pool small amounts of their capital to finance a new or existing business venture. Social causes remain the most active source of crowdfunding activity.\",\" Crowdfunding is the use of small amounts of capital from a large number of individuals to finance a new business venture.\"],\n",
    "},\n",
    "{\"tag\": \"cryptocurrency\",\n",
    "\"patterns\":[\"what is mean by cryptocurrency?\", \"do you know cryptocurrency?\",\"what is cryptocurrency\",\"Tell me about cryptocurrency\",\"cryptocurrency\",\"What can be cryptocurrency\",\"what do you mean by cryptocurrency\"],\n",
    "\"responses\":[\"A cryptocurrency is a digital or virtual currency that uses cryptography and is difficult to counterfeit because of this security feature.\",\"A cryptocurrency is a digital or virtual currency designed to work as a medium of exchange\"],\n",
    "},\n",
    "{\"tag\": \"Demonetisation\",\n",
    "\"patterns\":[\"what is mean by demonetisation?\", \"do you know about demonetization that happened in our India in 2016?\",\"what is demonetisation\",\"What can be demonetisation\",\"what do you mean by demonetisation\",\"Tell me about demonetisation\",\"Demonetisation in India\",\"Demonetisation\"],\n",
    "\"responses\":[\"Yes,Demonetization is the act of stripping a currency unit of its status as legal tender.\",\"Demonetisation is a process of removing a unit of currency from circulation by stripping it of its legal tender status\",\"Yes, Demonetization occurs when a governing body cancels the legal tender status of a currency unit in circulation.\"],\n",
    "},\n",
    "{\"tag\": \"Financial crisis\",\n",
    "\"patterns\":[\"what is mean by financial crisis in a country?\", \"do you know bank capital?\",\"Tell me about bank capital\",\"bank capital\",\"What can be bank capital\",\"what do you mean by bank capital\"],\n",
    "\"responses\":[\"A disturbance to financial markets, associated typically with falling asset prices and insolvency amongst debtors and intermediaries, which ramifies through the financial system, disrupting the market’s capacity to allocate capital\",\"A financial crisis is a situation where the value of assets drop rapidly and is often triggered by a panic or a run on banks.\"],\n",
    "},\n",
    "{\"tag\": \"liquidity\",\n",
    "\"patterns\":[\"what is mean by liquidity?\", \"do you know liquidity in financial markets?\",\"what is liquidity?\",\"liquidity\",\"What can be liquidity\",\"what do you mean by liquidity\"],\n",
    "\"responses\":[\"Liquidity means the ease and cost with which assets can be turned into cash and used immediately as a means of exchange. Cash is very liquid whereas a life assurance policy is less so.\",\"It is the the availability of liquid assets such as cash to a market or company.\"],\n",
    "},\n",
    "{\"tag\": \"leverage\",\n",
    "\"patterns\":[\"what is mean by leverage?\", \"do you know about leverage?\",\"do you know leverage?\",\"Tell me about leverage\",\"leverage\",\"What can be leverage\",\"what do you mean by leverage\"],\n",
    "\"responses\":[\"Leverage is the use of borrowed funds to increase profitability. One measure of leverage is the amount of long term debt relative to equity\",\"Leverage is an investment strategy of using borrowed money—specifically, the use of various financial instruments or borrowed capital—to increase the potential return of an investment\",\"Financial leverage which is also known as leverage or trading on equity, refers to the use of debt to acquire additional assets.\"],\n",
    "},\n",
    "{\"tag\": \"liquidity trap\",\n",
    "\"patterns\":[\"what is mean by liquidity trap?\", \"do you know liquidity trap?\",\"Hey tell me what is liquidity trap\",\"what is liquidity trap?\",\"liquidity trap\",\"What can be liquidity trap\",\"what do you mean by liquidity trap\"],\n",
    "\"responses\":[\"A liquidity trap occurs when low interest rates and a high amount of cash balances in the economy fail to stimulate aggregate demand partly through a lack of confidence.\"],\n",
    "},\n",
    "{\"tag\": \"Monetary stability\",\n",
    "\"patterns\":[\"what is mean by monetary stability?\", \"do you know about monetary stability?\",\"Tell me about what exactly monetary stability is.\",\"what is monetary stability\",\"Monetary Stability\",\"What can be Monitary Stability\",\"what do you mean by Monitary stability\"],\n",
    "\"responses\":[\"Monetary stability means stable prices and confidence in the currency. \",\"Monetary stability is a synonym for price stability. Price stability refers to a stable price level or a low level of inflation and not to stable individual prices\"],\n",
    "},\n",
    "{\"tag\": \"Moral hazard\",\n",
    "\"patterns\":[\"what is moral hazard?\",\"what is mean by moral hazard?\", \"tell me an example of moral hazard?\",\"do you know moral hazard\",\"moral hazard\",\"What can be moral hazard\",\"what do you mean by moral hazard\"],\n",
    "\"responses\":[\"When the party with superior information alters his/her behaviour in such a way that benefits himself while imposing costs on those with inferior information.\",\"For example, moral hazard occurs when insured consumers are likely to take greater risks, knowing that a claim will be paid for by their cover. The consumer knows more about his/her intended actions than the producer (e.g. the insurer).\"],\n",
    "},\n",
    "{\"tag\": \"nominal interest rate\",\n",
    "\"patterns\":[\"what is mean by nominal interest rate?\", \"do you know nominal interest rate?\",\"what is nominal interest rate?\",\"Tell me about nominal interest rate\",\"nominal interest rate\",\"What can be nominal interest rate\",\"what do you mean by nominal interest rate\"],\n",
    "\"responses\":[\"The nominal interest rate is the interest rate on a loan or on savings deposits unadjusted for the rate of inflation.\",\"In short, it is the sum of real interest rate and inflation\"],\n",
    "},\n",
    "{\"tag\": \"real interest rate\",\n",
    "\"patterns\":[\"what is mean by real interest rate?\", \"do you know real interst rate?\",\"what is real interest rate\",\"Tell me about real interest rate\",\"real interest rate\",\"what can be real interest rate?\",\"What do you mean by real interest rate\"],\n",
    "\"responses\":[\"A real interest rate is an interest rate that has been adjusted to remove the effects of inflation to reflect the real cost of funds to the borrower and the real yield to the lender or to an investor.\",\"The real interest rate reflects the rate of time-preference for current goods over future goods.\"],\n",
    "},\n",
    "{\"tag\": \"narrow money\",\n",
    "\"patterns\":[\"what is mean by narrow money?\", \"do you know narrow money in financial markets?\",\"what is narrow money\",\"Tell me about Narrow money\",\"Narrow money\",\"what can be Narrow money\",\"What do you mean by Narrow money\"],\n",
    "\"responses\":[\"Narrow money refers to a category of money supply that includes all the real money held by the central bank. It includes coins and currency, demand deposits, and other liquid assets.\",\"The narrow money definition of the money supply is a measure of the value coins and notes in circulation and other money equivalents that are easily convertible into cash such as short term deposits in the banking system.\"],\n",
    "},\n",
    "{\"tag\": \"passporting\",\n",
    "\"patterns\":[\"what is mean by pass porting?\", \"do you know passporting?\",\"what is passporting\",\"Tell me about passporting\",\"passporting\",\"What can be passporting\",\"what do you mean by passporting\"],\n",
    "\"responses\":[\"Passporting allows a firm registered in the European Economic Area (EEA) to do business in any other EEA state without the need for further authorization from each country.\",\"EU legislation gives UK banks, insurers and investment firms ‘passporting’ rights to provide a range of financial services to clients across the EU – either cross-border or through local branches – while remaining regulated solely by their ‘home’ state.\"],\n",
    "},\n",
    "{\"tag\": \"PRA\",\n",
    "\"patterns\":[\"what is mean by Prudential Regulation Authority or PRA?\", \"do you know PRA?\",\"what is PRA\",\"PRA\",\"what can be PRA\"],\n",
    "\"responses\":[\"The PRA is part of the Bank of England and is responsible for the prudential regulation and supervision of around 1,700 banks, building societies, credit unions, insurers and major investment firms.\",\"The PRA has a particular focus on the solvency of specific financial markets such as: Insurance providers, Buy-to-let mortgage lenders, Credit unions and other specialist lenders.\"],\n",
    "},\n",
    "{\"tag\": \"Ring Fence\",\n",
    "\"patterns\":[\"what is mean by ring-fence?\", \"do you know ring fence?\",\"Ring fencing?\",\"what is ring fence\",\"Tell me about ring fence\",\"Ring Fence\"],\n",
    "\"responses\":[\"A ring-fence is a virtual barrier that segregates a portion of an individual's or company's financial assets from the rest.\",\"Ringfencing is when a regulated public utility business financially separates itself from a parent company that engages in non-regulated business.\"],\n",
    "},\n",
    "{\"tag\": \"VAR\",\n",
    "\"patterns\":[\"what is mean by Value at risk?\", \"do you know VAR?\",\"what is exactly VAR?\",\"what is VAR\",\"Tell me about VAR\",\"Do you know Value at Risk\",\"VAR\",\"Value at Risk\"],\n",
    "\"responses\":[\"Value at risk is a measure of the maximum loss expected on an investment.\",\"For example, a 2% value at risk of a £3 million investment means that there is a 2% chance that a portfolio will lose £3 million in a given year.\"],\n",
    "},\n",
    "{\"tag\": \"Compound interest\",\n",
    "\"patterns\":[\"What is mean by Compound interest\",\"Compound interest\",\"what is compound interest\",\"Tell me about compound interest\",\"Do you know compound interest?\",\"What can be compound interest\",\"What do you mean by compound interest\"],\n",
    "\"responses\":[\"It is the interest on the amount of money you have deposited or borrowed\",\"When you are investing or saving, compound interest is charged on the original amount you have accumulated over time\"],\n",
    "},\n",
    "{\"tag\": \"FICO score\",\n",
    "\"patterns\":[\"What is Fico Score\",\"What is mean by Fico Score\",\"Fico Score means?\",\"Fico score\",\"Do you know Fico Score\",\"Tell me about Fico Score\",\"What can be Fico score\"],\n",
    "\"responses\":[\"Your Fico score is based on several factors including payment history, the length of your credit history and total amount owed\",\"Fico Score Reanges from 300 to 850, and the higher the score,the better the terms you may receive on your next loan or credit card.\",\"People with Fico scores below 620 may have a harder time securing credit at a favourable interest rate\"],\n",
    "},\n",
    "{\"tag\": \"Net Worth\",\n",
    "\"patterns\":[\"What is Net Worth\",\"What is mean by Net Worth\",\"net worth means?\",\"Net worth\",\"Do you know Net Worth\",\"Tell me about Net worth\",\"What does Net worth do?\",\"What do you mean by Net worth\",\"what can be networth\"],\n",
    "\"responses\":[\"Your networth is simply the difference between your assets\"],\n",
    "},\n",
    "{\"tag\": \"Asset allocation\",\n",
    "\"patterns\":[\"What is Asset allocation\",\"What is mean by Asset allocation\",\"Asset allocation means?\",\"Asset allocation\",\"Do you know Asset allocation\",\"Tell me about Asset allocation\",\"What does Asset allocation do?\",\"What `do you mean by Asset allocation\",\"what can be Asset allocation\"],\n",
    "\"responses\":[\"Asset allocation is where you choose to put your money\",\"The three major asset classes are stocks, bonds, and cash\"],\n",
    "},\n",
    "{\"tag\": \"Term life insurance\",\n",
    "\"patterns\":[\"What is term life insurance\", \"Do you know term life insurance\",\"what is mean by term life insurance\",\"Tell me about term life insurance\"],\n",
    "\"responses\":[\"Term life insurance provide coverage over a set period, generally anywhere from five to 30 years\",\"If you die within the set term, your beneficiaries receive a payout. If you don't,the policy expires with no value.\"],\n",
    "},\n",
    "{\"tag\": \"Thank you\",\n",
    "\"patterns\":[\"Thank you\", \"Thank you so much for your help\"],\n",
    "\"responses\":[\"Its my pleasure.\",\"You are welcome\",\"No problem. Its my pleasure to help you\"],\n",
    "},\n",
    "\n",
    "]}\n",
    "import json\n",
    "def writeTOJsonFile(path,data1):\n",
    "  filepathname='./'+path+'/'+'1ECONO_GopikaSR_18412_DATA'+'.json'\n",
    "  with open(filepathname,'w') as fp:\n",
    "    json.dump(data,fp)\n",
    "writeTOJsonFile('./',data)"
   ]
  },
  {
   "cell_type": "code",
   "execution_count": 4,
   "metadata": {
    "colab": {
     "base_uri": "https://localhost:8080/"
    },
    "id": "a1O6x_SKlkl4",
    "outputId": "592c5a72-4940-428d-a746-9753b60a5f76"
   },
   "outputs": [
    {
     "data": {
      "text/plain": [
       "{'intents': [{'tag': 'welcome',\n",
       "   'patterns': ['Hi',\n",
       "    'Hello',\n",
       "    'How are you',\n",
       "    'whats up',\n",
       "    'How do you do',\n",
       "    'How’s the day?',\n",
       "    'Hey are you there',\n",
       "    'How is everything going',\n",
       "    'glad to meet you'],\n",
       "   'responses': ['Hello',\n",
       "    'Glad to see you again',\n",
       "    'Hi there, How can I help  you',\n",
       "    'Hello! what you are looking for?',\n",
       "    'Hello, how may I help you']},\n",
       "  {'tag': 'endingnote',\n",
       "   'patterns': ['see you. bye',\n",
       "    'Good Bye',\n",
       "    'ok then bye',\n",
       "    'That’ s enough for me',\n",
       "    ' Im leaving',\n",
       "    'See u later! Goodbye',\n",
       "    'nice to meet you',\n",
       "    'The bargaining session was fun!I’m happy that I got it at cheap price, see u again',\n",
       "    'Enjoyed the experience, good bye'],\n",
       "   'responses': ['Hey, Thank you for visiting',\n",
       "    'Hope to see you again, it was nice talking with you',\n",
       "    ' wish you a good day! Hope to have a talk with you later',\n",
       "    'Thanks for your time with us.Hope you enjoyed it and satisfied. See you later',\n",
       "    'Sad to see you go. Come whenever you need to bye from us. Stay intouch.']},\n",
       "  {'tag': 'name',\n",
       "   'patterns': ['whats you name?',\n",
       "    'who are you?',\n",
       "    'what can I call you',\n",
       "    'tell me your name',\n",
       "    'Are u a robot',\n",
       "    'Are you a chatbot'],\n",
       "   'responses': ['It’s FinBot here, a digital+financial assistant to help you out',\n",
       "    'You can call me FinBot.Im a chatRobot/chatbot, tell me what you want',\n",
       "    'I’m FinBot,a digital+financial assistant, I can guide you in our ecommerce website.',\n",
       "    'Its FinBot Here,a digital +financial assistant. How may I help you?']},\n",
       "  {'tag': 'shopping',\n",
       "   'patterns': ['I would like to buy something here',\n",
       "    'can I buy something',\n",
       "    'What all things are there',\n",
       "    'can you recommend me something from here',\n",
       "    'is there any thing cheaper here',\n",
       "    'Hey, I want a black shoe'],\n",
       "   'responses': ['Yes please, we have a lot of new collections for you',\n",
       "    'Ofcourse, there are new offers for you, fantastic selections, choose what interests you!',\n",
       "    'Well casual shoes at Rs 220, this offer won’t stay much',\n",
       "    'there are good varieties of coloured shoes too also there are black formal shoes. Take one']},\n",
       "  {'tag': 'time period',\n",
       "   'patterns': ['till what time this be offered?',\n",
       "    'When will the shop close?',\n",
       "    'when will the shop open',\n",
       "    'How much time it will take for delivery',\n",
       "    'When will this site close?',\n",
       "    'When are you people open',\n",
       "    'When will this store be open?',\n",
       "    'Is this store will be open at Sunday?'],\n",
       "   'responses': ['Our shop centre will be open from 9 am-9pm in all the days',\n",
       "    'Yes, we are operating on all the weekdays from 9 am to 9pm',\n",
       "    'We are there to provide services from Monday-sunday from 9 am-9pm',\n",
       "    'We are operating from 9 am-9 pm every day']},\n",
       "  {'tag': 'location',\n",
       "   'patterns': ['What is your location?',\n",
       "    'Where are you located?',\n",
       "    'What is your address?',\n",
       "    'Where is your restaurant situated?'],\n",
       "   'responses': ['We are on the intersection of state Alley and Techno Avenue, Delhi, India',\n",
       "    'We are situated at the intersection of  state Alley and Techno Avenue in Delhi, India',\n",
       "    'Our Address is: 1000 Techno Avenue, Delhi, India']},\n",
       "  {'tag': 'payments',\n",
       "   'patterns': ['Do you take credit cards?',\n",
       "    'Do you accept Mastercard?',\n",
       "    'Are you cash only?',\n",
       "    'will you accept credit card',\n",
       "    'can i pay by credit card'],\n",
       "   'responses': ['We accept VISA, Mastercard and AMEX',\n",
       "    'We accept most major credit cards']},\n",
       "  {'tag': 'todaysOffers',\n",
       "   'patterns': ['What is the new collections for today?',\n",
       "    'What new collections you have today?',\n",
       "    \"Tell me today's collection\"],\n",
       "   'responses': ['We have buy one get one offer for kurtis and shirts. Also new colour selections of traditional wears',\n",
       "    'Our speciality for today is trendy new collections of traditional wears and also buy one get one offer for some things']},\n",
       "  {'tag': 'deliveryoption',\n",
       "   'patterns': ['Do you provide delivery to home?',\n",
       "    'Do you deliver the clothes?',\n",
       "    'What are the home delivery options?',\n",
       "    'Tell me the delivery options you have'],\n",
       "   'responses': ['Yes, we provide home delivery of the proiducts through our agents?',\n",
       "    'We have home delivery options through our agents']},\n",
       "  {'tag': 'price of formal wear',\n",
       "   'patterns': ['what is the price for a formal wear',\n",
       "    'How much will it cost to buy a formal wear',\n",
       "    'Will it be much expensive to buy a branded suit, how much is the average cost'],\n",
       "   'responses': ['For  a formal wear it will cost in a range of 750-2500 Rs according to your selection',\n",
       "    'There are a number of varieties of suits or formal wears ranging from 500-1500',\n",
       "    'Its not much expensive to have the same. There are several discounts available',\n",
       "    'it has an average cost of 1200 Rs']},\n",
       "  {'tag': 'price of a saree',\n",
       "   'patterns': ['what is the price for a saree',\n",
       "    'How much will it cost to buy a saree',\n",
       "    'What is the cost of a saree',\n",
       "    'Cost of a saree',\n",
       "    'Price of a saree'],\n",
       "   'responses': ['The price of saree depends upon the colour and design of the same ',\n",
       "    'We have collections of trending sarees ranging from 500Rs to 10000 Rs'],\n",
       "   'context_set': ''},\n",
       "  {'tag': 'Thank you',\n",
       "   'patterns': ['Thank you', 'Thank you so much for your help'],\n",
       "   'responses': ['Its my pleasure.',\n",
       "    'You are welcome',\n",
       "    'No problem. Its my pleasure to help you']},\n",
       "  {'tag': 'Bargain offer',\n",
       "   'patterns': ['Can i bargain for any product today',\n",
       "    'For what product do you have bargaining offer today',\n",
       "    'can you bargain today',\n",
       "    'can I bargain today',\n",
       "    'Which product can I bargain today',\n",
       "    'Tell me is there a product to bargain'],\n",
       "   'responses': ['Yes, we have a bargaining offer for ribbon today. Its rated price is 30 Rs',\n",
       "    'yes, today you can bargaining for a ribbon. its rated price is 30 Rs']},\n",
       "  {'tag': 'bitcoin',\n",
       "   'patterns': ['tell me the value of a bitcoin',\n",
       "    'what is bitcoin',\n",
       "    'Can you tell more about bitcoin?',\n",
       "    'What can be bitcoin',\n",
       "    'what do you mean by bitcoin'],\n",
       "   'responses': ['1 Bitcoin equals 14,14,998.64 Indian Rupee',\n",
       "    'Bitcoin is a digital or virtual currency created in 2009 that uses peer-to-peer technology to facilitate instant payments',\n",
       "    'Bitcoin is a cryptocurrency created in 2009. Marketplaces called “bitcoin exchanges” allow people to buy or sell bitcoins using different currencies']},\n",
       "  {'tag': 'AsymmetricInformation',\n",
       "   'patterns': ['what is Asymmetric Information',\n",
       "    'Tell me about Asymmetric information in finance markets',\n",
       "    'Do you know about Asymmetric information',\n",
       "    'What can be Asymmetric information',\n",
       "    'what do you mean by Asymmetric information'],\n",
       "   'responses': ['It is a type of market failure exists when one individual or party has much more information than another individual or party, and uses that advantage to exploit the other party.',\n",
       "    'Finance is a market in information – often a potential borrower (such as a small business) has better information on the likelihood that they will be able to repay a loan than the lender.']},\n",
       "  {'tag': 'bail-out',\n",
       "   'patterns': ['what is bail-out',\n",
       "    'Do you know about bail-out in financial markets',\n",
       "    'Tell me about bailout',\n",
       "    'What does critics and supporter say about bail-out',\n",
       "    'bail-out'],\n",
       "   'responses': ['A bail-out happens when a government buys an equity stake in a bank or some other form of financial support to prevent it from failing',\n",
       "    'Critics of bail-outs argue that it can increase the burden facing taxpayers and also increase the risk of moral hazard.Supporters of bail-outs claim that they are sometimes necessary during a financial crisis to help reduce systemic risk.',\n",
       "    ' Bail outs have become prominent once again because of the economic and social consequences of the coronavirus crisis.']},\n",
       "  {'tag': 'Balance sheet',\n",
       "   'patterns': ['what is a balance sheet',\n",
       "    'Tell me about Balance sheet',\n",
       "    'Do you know Balance sheet?',\n",
       "    'Balance sheet',\n",
       "    'What can be Balance sheet',\n",
       "    'what do you mean by Balance sheet'],\n",
       "   'responses': ['A record of the assets, liabilities, and net worth of an economic actor such as a household, commercial or central bank, firm, or government',\n",
       "    \"A balance sheet is a financial statement that reports a company's assets, liabilities and shareholders' equity.\",\n",
       "    'The balance sheet is one of the three (income statement and statement of cash flows being the other two) core financial statements used to evaluate a business.']},\n",
       "  {'tag': 'bank',\n",
       "   'patterns': ['what is a bank',\n",
       "    'What exactly bank does',\n",
       "    'can you tell me about bank',\n",
       "    'bank',\n",
       "    'What can be bank',\n",
       "    'what do you mean by bank'],\n",
       "   'responses': ['A bank in simple terms is a business that makes its profit by paying interest to those who keep money there and charging a higher rate of interest to people/businesses who borrow money from the bank']},\n",
       "  {'tag': 'bank assests',\n",
       "   'patterns': ['what are bank assets',\n",
       "    'Tell me about bank assets',\n",
       "    'what is bank asset',\n",
       "    'bank assets',\n",
       "    'what is mean by bank assets',\n",
       "    'bank assets',\n",
       "    'What can be bank assets',\n",
       "    'what do you mean by bank assets'],\n",
       "   'responses': ['Assets are “owned” by the bank e.g. cash, balances at Bank of England, loans (Advances), securities (e.g. Bonds) and fixed assets.']},\n",
       "  {'tag': 'Bank capital',\n",
       "   'patterns': ['what is mean by bank capital?',\n",
       "    'do you know bank capital?',\n",
       "    'what is bank capital',\n",
       "    'bank capital',\n",
       "    'Tell me about Bank capital',\n",
       "    'What can be Bank capital',\n",
       "    'what do you mean by Bank capital'],\n",
       "   'responses': [\"Bank capital is the value of the bank's assets minus its liabilities, or debts.\"]},\n",
       "  {'tag': 'Bond market',\n",
       "   'patterns': ['what is mean by bond market?',\n",
       "    'do you know bond market?',\n",
       "    'what is bond market?',\n",
       "    'Bond Market',\n",
       "    'What can be Bond Market',\n",
       "    'what do you mean by Bank Market'],\n",
       "   'responses': ['The bond market broadly describes a marketplace where investors buy debt securities that are brought to the market by either governmental entities or publicly-traded corporations',\n",
       "    'The market for interest-bearing securities (with either a fixed or a floating rate and with a maturity of at least one year) that companies and governments issue to raise capital for investment.']},\n",
       "  {'tag': 'Bank Run',\n",
       "   'patterns': ['what is mean by Bank Run?',\n",
       "    'What is bank run and how it occurs?',\n",
       "    'Do you know about bank run?',\n",
       "    'Bank Run',\n",
       "    'What can be bank run',\n",
       "    'what do you mean by bank run'],\n",
       "   'responses': [\"A situation in which depositors withdraw funds from a commercial bank because they fear that it may go bankrupt and not honour its liabilities such as the deposits of the bank's savers.\",\n",
       "    \"A bank run occurs when a large number of customers of a bank or other financial institution withdraw their deposits simultaneously over concerns of the bank's solvency.\"]},\n",
       "  {'tag': 'Bank reserves',\n",
       "   'patterns': ['what is mean by bank reserves?',\n",
       "    'do you know bank reserves?',\n",
       "    'Bank reserves and how it works',\n",
       "    'what is bank reserves',\n",
       "    'Bank reserves',\n",
       "    'What can be Bank reserves',\n",
       "    'what do you mean by Bank reserves'],\n",
       "   'responses': ['Money and liquid assets (such as securities that can be sold quickly) held by banks in order to meet withdrawals by customers.',\n",
       "    'Bank reserves are the cash minimums that must be kept on hand by financial institutions in order to meet central bank requirements']},\n",
       "  {'tag': 'Capital market',\n",
       "   'patterns': ['what is mean by a capital market?',\n",
       "    'capital market?',\n",
       "    'do you know Capital market?',\n",
       "    'Tell me about capital market',\n",
       "    'capital market',\n",
       "    'What can be capital market',\n",
       "    'what do you mean by capital market'],\n",
       "   'responses': ['Capital markets are the markets where securities such as shares and bonds are issued to raise medium to long-term financing.']},\n",
       "  {'tag': 'Capital ratio',\n",
       "   'patterns': ['what is mean by capital ratio?',\n",
       "    'do you know Capital ratio?',\n",
       "    'Tell me about capital ratio',\n",
       "    'capital ratio',\n",
       "    'What can be capital ratio',\n",
       "    'what do you mean by capital ratio'],\n",
       "   'responses': [\"A commercial bank's capital ratio measures the funds it has in reserve against the riskier assets it holds that could be vulnerable in the event of a crisis.\",\n",
       "    'the extent to which a financial institution finances its operations by issuing shares and retaining profits, expressed as a percentage of its assets.']},\n",
       "  {'tag': 'Credit risk',\n",
       "   'patterns': ['what is mean by credit risk?',\n",
       "    'do you know credit risk?',\n",
       "    'Tell me about credit risk',\n",
       "    'what is credit risk',\n",
       "    'credit risk',\n",
       "    'What can be credit risk',\n",
       "    'what do you mean by credit risk'],\n",
       "   'responses': [\"Credit risk is the possibility of a loss resulting from a borrower's failure to repay a loan or meet contractual obligations\",\n",
       "    'This is the risk to the commercial bank of lending to borrowers who turn out to be unable to repay their loans.']},\n",
       "  {'tag': 'Crowdfunding',\n",
       "   'patterns': ['what is mean by crowdfunding?',\n",
       "    'do you know crowdfunding?',\n",
       "    'Tell me about crowdfunding',\n",
       "    'what is crowdfunding?',\n",
       "    'crowdfunding',\n",
       "    'What can be crowdfunding',\n",
       "    'what do you mean by crowdfunding'],\n",
       "   'responses': ['Crowdfunding is a form of equity finance that has grown rapidly in the USA and the UK in particular.',\n",
       "    'Crowdfunding involves the collective effort of a large number of individuals who network and pool small amounts of their capital to finance a new or existing business venture. Social causes remain the most active source of crowdfunding activity.',\n",
       "    ' Crowdfunding is the use of small amounts of capital from a large number of individuals to finance a new business venture.']},\n",
       "  {'tag': 'cryptocurrency',\n",
       "   'patterns': ['what is mean by cryptocurrency?',\n",
       "    'do you know cryptocurrency?',\n",
       "    'what is cryptocurrency',\n",
       "    'Tell me about cryptocurrency',\n",
       "    'cryptocurrency',\n",
       "    'What can be cryptocurrency',\n",
       "    'what do you mean by cryptocurrency'],\n",
       "   'responses': ['A cryptocurrency is a digital or virtual currency that uses cryptography and is difficult to counterfeit because of this security feature.',\n",
       "    'A cryptocurrency is a digital or virtual currency designed to work as a medium of exchange']},\n",
       "  {'tag': 'Demonetisation',\n",
       "   'patterns': ['what is mean by demonetisation?',\n",
       "    'do you know about demonetization that happened in our India in 2016?',\n",
       "    'what is demonetisation',\n",
       "    'What can be demonetisation',\n",
       "    'what do you mean by demonetisation',\n",
       "    'Tell me about demonetisation',\n",
       "    'Demonetisation in India',\n",
       "    'Demonetisation'],\n",
       "   'responses': ['Yes,Demonetization is the act of stripping a currency unit of its status as legal tender.',\n",
       "    'Demonetisation is a process of removing a unit of currency from circulation by stripping it of its legal tender status',\n",
       "    'Yes, Demonetization occurs when a governing body cancels the legal tender status of a currency unit in circulation.']},\n",
       "  {'tag': 'Financial crisis',\n",
       "   'patterns': ['what is mean by financial crisis in a country?',\n",
       "    'do you know bank capital?',\n",
       "    'Tell me about bank capital',\n",
       "    'bank capital',\n",
       "    'What can be bank capital',\n",
       "    'what do you mean by bank capital'],\n",
       "   'responses': ['A disturbance to financial markets, associated typically with falling asset prices and insolvency amongst debtors and intermediaries, which ramifies through the financial system, disrupting the market’s capacity to allocate capital',\n",
       "    'A financial crisis is a situation where the value of assets drop rapidly and is often triggered by a panic or a run on banks.']},\n",
       "  {'tag': 'liquidity',\n",
       "   'patterns': ['what is mean by liquidity?',\n",
       "    'do you know liquidity in financial markets?',\n",
       "    'what is liquidity?',\n",
       "    'liquidity',\n",
       "    'What can be liquidity',\n",
       "    'what do you mean by liquidity'],\n",
       "   'responses': ['Liquidity means the ease and cost with which assets can be turned into cash and used immediately as a means of exchange. Cash is very liquid whereas a life assurance policy is less so.',\n",
       "    'It is the the availability of liquid assets such as cash to a market or company.']},\n",
       "  {'tag': 'leverage',\n",
       "   'patterns': ['what is mean by leverage?',\n",
       "    'do you know about leverage?',\n",
       "    'do you know leverage?',\n",
       "    'Tell me about leverage',\n",
       "    'leverage',\n",
       "    'What can be leverage',\n",
       "    'what do you mean by leverage'],\n",
       "   'responses': ['Leverage is the use of borrowed funds to increase profitability. One measure of leverage is the amount of long term debt relative to equity',\n",
       "    'Leverage is an investment strategy of using borrowed money—specifically, the use of various financial instruments or borrowed capital—to increase the potential return of an investment',\n",
       "    'Financial leverage which is also known as leverage or trading on equity, refers to the use of debt to acquire additional assets.']},\n",
       "  {'tag': 'liquidity trap',\n",
       "   'patterns': ['what is mean by liquidity trap?',\n",
       "    'do you know liquidity trap?',\n",
       "    'Hey tell me what is liquidity trap',\n",
       "    'what is liquidity trap?',\n",
       "    'liquidity trap',\n",
       "    'What can be liquidity trap',\n",
       "    'what do you mean by liquidity trap'],\n",
       "   'responses': ['A liquidity trap occurs when low interest rates and a high amount of cash balances in the economy fail to stimulate aggregate demand partly through a lack of confidence.']},\n",
       "  {'tag': 'Monetary stability',\n",
       "   'patterns': ['what is mean by monetary stability?',\n",
       "    'do you know about monetary stability?',\n",
       "    'Tell me about what exactly monetary stability is.',\n",
       "    'what is monetary stability',\n",
       "    'Monetary Stability',\n",
       "    'What can be Monitary Stability',\n",
       "    'what do you mean by Monitary stability'],\n",
       "   'responses': ['Monetary stability means stable prices and confidence in the currency. ',\n",
       "    'Monetary stability is a synonym for price stability. Price stability refers to a stable price level or a low level of inflation and not to stable individual prices']},\n",
       "  {'tag': 'Moral hazard',\n",
       "   'patterns': ['what is moral hazard?',\n",
       "    'what is mean by moral hazard?',\n",
       "    'tell me an example of moral hazard?',\n",
       "    'do you know moral hazard',\n",
       "    'moral hazard',\n",
       "    'What can be moral hazard',\n",
       "    'what do you mean by moral hazard'],\n",
       "   'responses': ['When the party with superior information alters his/her behaviour in such a way that benefits himself while imposing costs on those with inferior information.',\n",
       "    'For example, moral hazard occurs when insured consumers are likely to take greater risks, knowing that a claim will be paid for by their cover. The consumer knows more about his/her intended actions than the producer (e.g. the insurer).']},\n",
       "  {'tag': 'nominal interest rate',\n",
       "   'patterns': ['what is mean by nominal interest rate?',\n",
       "    'do you know nominal interest rate?',\n",
       "    'what is nominal interest rate?',\n",
       "    'Tell me about nominal interest rate',\n",
       "    'nominal interest rate',\n",
       "    'What can be nominal interest rate',\n",
       "    'what do you mean by nominal interest rate'],\n",
       "   'responses': ['The nominal interest rate is the interest rate on a loan or on savings deposits unadjusted for the rate of inflation.',\n",
       "    'In short, it is the sum of real interest rate and inflation']},\n",
       "  {'tag': 'real interest rate',\n",
       "   'patterns': ['what is mean by real interest rate?',\n",
       "    'do you know real interst rate?',\n",
       "    'what is real interest rate',\n",
       "    'Tell me about real interest rate',\n",
       "    'real interest rate',\n",
       "    'what can be real interest rate?',\n",
       "    'What do you mean by real interest rate'],\n",
       "   'responses': ['A real interest rate is an interest rate that has been adjusted to remove the effects of inflation to reflect the real cost of funds to the borrower and the real yield to the lender or to an investor.',\n",
       "    'The real interest rate reflects the rate of time-preference for current goods over future goods.']},\n",
       "  {'tag': 'narrow money',\n",
       "   'patterns': ['what is mean by narrow money?',\n",
       "    'do you know narrow money in financial markets?',\n",
       "    'what is narrow money',\n",
       "    'Tell me about Narrow money',\n",
       "    'Narrow money',\n",
       "    'what can be Narrow money',\n",
       "    'What do you mean by Narrow money'],\n",
       "   'responses': ['Narrow money refers to a category of money supply that includes all the real money held by the central bank. It includes coins and currency, demand deposits, and other liquid assets.',\n",
       "    'The narrow money definition of the money supply is a measure of the value coins and notes in circulation and other money equivalents that are easily convertible into cash such as short term deposits in the banking system.']},\n",
       "  {'tag': 'passporting',\n",
       "   'patterns': ['what is mean by pass porting?',\n",
       "    'do you know passporting?',\n",
       "    'what is passporting',\n",
       "    'Tell me about passporting',\n",
       "    'passporting',\n",
       "    'What can be passporting',\n",
       "    'what do you mean by passporting'],\n",
       "   'responses': ['Passporting allows a firm registered in the European Economic Area (EEA) to do business in any other EEA state without the need for further authorization from each country.',\n",
       "    'EU legislation gives UK banks, insurers and investment firms ‘passporting’ rights to provide a range of financial services to clients across the EU – either cross-border or through local branches – while remaining regulated solely by their ‘home’ state.']},\n",
       "  {'tag': 'PRA',\n",
       "   'patterns': ['what is mean by Prudential Regulation Authority or PRA?',\n",
       "    'do you know PRA?',\n",
       "    'what is PRA',\n",
       "    'PRA',\n",
       "    'what can be PRA'],\n",
       "   'responses': ['The PRA is part of the Bank of England and is responsible for the prudential regulation and supervision of around 1,700 banks, building societies, credit unions, insurers and major investment firms.',\n",
       "    'The PRA has a particular focus on the solvency of specific financial markets such as: Insurance providers, Buy-to-let mortgage lenders, Credit unions and other specialist lenders.']},\n",
       "  {'tag': 'Ring Fence',\n",
       "   'patterns': ['what is mean by ring-fence?',\n",
       "    'do you know ring fence?',\n",
       "    'Ring fencing?',\n",
       "    'what is ring fence',\n",
       "    'Tell me about ring fence',\n",
       "    'Ring Fence'],\n",
       "   'responses': [\"A ring-fence is a virtual barrier that segregates a portion of an individual's or company's financial assets from the rest.\",\n",
       "    'Ringfencing is when a regulated public utility business financially separates itself from a parent company that engages in non-regulated business.']},\n",
       "  {'tag': 'VAR',\n",
       "   'patterns': ['what is mean by Value at risk?',\n",
       "    'do you know VAR?',\n",
       "    'what is exactly VAR?',\n",
       "    'what is VAR',\n",
       "    'Tell me about VAR',\n",
       "    'Do you know Value at Risk',\n",
       "    'VAR',\n",
       "    'Value at Risk'],\n",
       "   'responses': ['Value at risk is a measure of the maximum loss expected on an investment.',\n",
       "    'For example, a 2% value at risk of a £3 million investment means that there is a 2% chance that a portfolio will lose £3 million in a given year.']},\n",
       "  {'tag': 'Compound interest',\n",
       "   'patterns': ['What is mean by Compound interest',\n",
       "    'Compound interest',\n",
       "    'what is compound interest',\n",
       "    'Tell me about compound interest',\n",
       "    'Do you know compound interest?',\n",
       "    'What can be compound interest',\n",
       "    'What do you mean by compound interest'],\n",
       "   'responses': ['It is the interest on the amount of money you have deposited or borrowed',\n",
       "    'When you are investing or saving, compound interest is charged on the original amount you have accumulated over time']},\n",
       "  {'tag': 'FICO score',\n",
       "   'patterns': ['What is Fico Score',\n",
       "    'What is mean by Fico Score',\n",
       "    'Fico Score means?',\n",
       "    'Fico score',\n",
       "    'Do you know Fico Score',\n",
       "    'Tell me about Fico Score',\n",
       "    'What can be Fico score'],\n",
       "   'responses': ['Your Fico score is based on several factors including payment history, the length of your credit history and total amount owed',\n",
       "    'Fico Score Reanges from 300 to 850, and the higher the score,the better the terms you may receive on your next loan or credit card.',\n",
       "    'People with Fico scores below 620 may have a harder time securing credit at a favourable interest rate']},\n",
       "  {'tag': 'Net Worth',\n",
       "   'patterns': ['What is Net Worth',\n",
       "    'What is mean by Net Worth',\n",
       "    'net worth means?',\n",
       "    'Net worth',\n",
       "    'Do you know Net Worth',\n",
       "    'Tell me about Net worth',\n",
       "    'What does Net worth do?',\n",
       "    'What do you mean by Net worth',\n",
       "    'what can be networth'],\n",
       "   'responses': ['Your networth is simply the difference between your assets']},\n",
       "  {'tag': 'Asset allocation',\n",
       "   'patterns': ['What is Asset allocation',\n",
       "    'What is mean by Asset allocation',\n",
       "    'Asset allocation means?',\n",
       "    'Asset allocation',\n",
       "    'Do you know Asset allocation',\n",
       "    'Tell me about Asset allocation',\n",
       "    'What does Asset allocation do?',\n",
       "    'What `do you mean by Asset allocation',\n",
       "    'what can be Asset allocation'],\n",
       "   'responses': ['Asset allocation is where you choose to put your money',\n",
       "    'The three major asset classes are stocks, bonds, and cash']},\n",
       "  {'tag': 'Term life insurance',\n",
       "   'patterns': ['What is term life insurance',\n",
       "    'Do you know term life insurance',\n",
       "    'what is mean by term life insurance',\n",
       "    'Tell me about term life insurance'],\n",
       "   'responses': ['Term life insurance provide coverage over a set period, generally anywhere from five to 30 years',\n",
       "    \"If you die within the set term, your beneficiaries receive a payout. If you don't,the policy expires with no value.\"]},\n",
       "  {'tag': 'Thank you',\n",
       "   'patterns': ['Thank you', 'Thank you so much for your help'],\n",
       "   'responses': ['Its my pleasure.',\n",
       "    'You are welcome',\n",
       "    'No problem. Its my pleasure to help you']}]}"
      ]
     },
     "execution_count": 4,
     "metadata": {},
     "output_type": "execute_result"
    }
   ],
   "source": [
    "with open('1ECONO_GopikaSR_18412_DATA.json','r') as f:\n",
    "    intents = json.load(f)\n",
    "intents"
   ]
  },
  {
   "cell_type": "code",
   "execution_count": null,
   "metadata": {
    "colab": {
     "base_uri": "https://localhost:8080/"
    },
    "id": "r3FsnL_ZPTgh",
    "outputId": "4560faae-3dd7-4ac7-c91a-b23a7f565ecc"
   },
   "outputs": [
    {
     "name": "stderr",
     "output_type": "stream",
     "text": [
      "[nltk_data] Downloading package punkt to\n",
      "[nltk_data]     C:\\Users\\pande\\AppData\\Roaming\\nltk_data...\n",
      "[nltk_data]   Package punkt is already up-to-date!\n",
      "[nltk_data] Downloading collection 'all'\n",
      "[nltk_data]    | \n",
      "[nltk_data]    | Downloading package abc to\n",
      "[nltk_data]    |     C:\\Users\\pande\\AppData\\Roaming\\nltk_data...\n",
      "[nltk_data]    |   Unzipping corpora\\abc.zip.\n",
      "[nltk_data]    | Downloading package alpino to\n",
      "[nltk_data]    |     C:\\Users\\pande\\AppData\\Roaming\\nltk_data...\n",
      "[nltk_data]    |   Unzipping corpora\\alpino.zip.\n",
      "[nltk_data]    | Downloading package averaged_perceptron_tagger to\n",
      "[nltk_data]    |     C:\\Users\\pande\\AppData\\Roaming\\nltk_data...\n"
     ]
    }
   ],
   "source": [
    "import numpy as np\n",
    "import random\n",
    "import json\n",
    "import torch\n",
    "import torch.nn as nn\n",
    "#importing nltk and necessary downloads\n",
    "import nltk\n",
    "nltk.download('punkt')\n",
    "#Im using porter stemmer here\n",
    "from nltk.stem.porter import PorterStemmer\n",
    "from torch.utils.data import Dataset, DataLoader\n",
    "nltk.download('all')"
   ]
  },
  {
   "cell_type": "code",
   "execution_count": null,
   "metadata": {
    "colab": {
     "base_uri": "https://localhost:8080/"
    },
    "id": "93fjiU1fLwZe",
    "outputId": "f26cec99-e1de-42a4-9786-038ae661072c"
   },
   "outputs": [],
   "source": [
    "!pip install graphviz"
   ]
  },
  {
   "cell_type": "code",
   "execution_count": null,
   "metadata": {
    "colab": {
     "base_uri": "https://localhost:8080/"
    },
    "id": "rhn4xK-rLwvr",
    "outputId": "e24143e8-4869-4cf3-d085-45c37e755341"
   },
   "outputs": [
    {
     "name": "stdout",
     "output_type": "stream",
     "text": [
      "Collecting torchviz\n",
      "\u001b[?25l  Downloading https://files.pythonhosted.org/packages/8f/8e/a9630c7786b846d08b47714dd363a051f5e37b4ea0e534460d8cdfc1644b/torchviz-0.0.1.tar.gz (41kB)\n",
      "\r",
      "\u001b[K     |████████                        | 10kB 16.7MB/s eta 0:00:01\r",
      "\u001b[K     |████████████████                | 20kB 22.6MB/s eta 0:00:01\r",
      "\u001b[K     |███████████████████████▉        | 30kB 10.7MB/s eta 0:00:01\r",
      "\u001b[K     |███████████████████████████████▉| 40kB 9.6MB/s eta 0:00:01\r",
      "\u001b[K     |████████████████████████████████| 51kB 3.9MB/s \n",
      "\u001b[?25hRequirement already satisfied: torch in /usr/local/lib/python3.6/dist-packages (from torchviz) (1.7.0+cu101)\n",
      "Requirement already satisfied: graphviz in /usr/local/lib/python3.6/dist-packages (from torchviz) (0.10.1)\n",
      "Requirement already satisfied: typing-extensions in /usr/local/lib/python3.6/dist-packages (from torch->torchviz) (3.7.4.3)\n",
      "Requirement already satisfied: dataclasses in /usr/local/lib/python3.6/dist-packages (from torch->torchviz) (0.8)\n",
      "Requirement already satisfied: future in /usr/local/lib/python3.6/dist-packages (from torch->torchviz) (0.16.0)\n",
      "Requirement already satisfied: numpy in /usr/local/lib/python3.6/dist-packages (from torch->torchviz) (1.18.5)\n",
      "Building wheels for collected packages: torchviz\n",
      "  Building wheel for torchviz (setup.py) ... \u001b[?25l\u001b[?25hdone\n",
      "  Created wheel for torchviz: filename=torchviz-0.0.1-cp36-none-any.whl size=3522 sha256=01b86f7aa06c8b47093e8742da6aeb6b612c167dbd64491484889bf699ef9daa\n",
      "  Stored in directory: /root/.cache/pip/wheels/2a/c2/c5/b8b4d0f7992c735f6db5bfa3c5f354cf36502037ca2b585667\n",
      "Successfully built torchviz\n",
      "Installing collected packages: torchviz\n",
      "Successfully installed torchviz-0.0.1\n"
     ]
    }
   ],
   "source": [
    "!pip install torchviz"
   ]
  },
  {
   "cell_type": "code",
   "execution_count": null,
   "metadata": {
    "id": "RJBy_313NdJP"
   },
   "outputs": [],
   "source": [
    "from torchviz import make_dot,make_dot_from_trace"
   ]
  },
  {
   "cell_type": "markdown",
   "metadata": {
    "id": "DJBavewZ1YdR"
   },
   "source": [
    "# In simple words, the chat bot will answer us according to the data provided with it.\n",
    "\n",
    "## So, when some person start talking with the chatbot it will talk back after doing some processes with what we typed...So, lets build it."
   ]
  },
  {
   "cell_type": "markdown",
   "metadata": {
    "id": "-gXftJ-V2kgO"
   },
   "source": [
    "# Lets define some functions for ease while working with it."
   ]
  },
  {
   "cell_type": "markdown",
   "metadata": {
    "id": "XNNEApKN23vG"
   },
   "source": [
    "So, first we need to tokenize the input sequence.\n",
    "Tokenizing helps us to break down our big sentence to small tokens/individual meaningful words."
   ]
  },
  {
   "cell_type": "code",
   "execution_count": null,
   "metadata": {
    "id": "IV9BRIhy2xk8"
   },
   "outputs": [],
   "source": [
    "def tokenize(sentence):\n",
    "    return nltk.word_tokenize(sentence)"
   ]
  },
  {
   "cell_type": "markdown",
   "metadata": {
    "id": "UvlTGvsL3Q6s"
   },
   "source": [
    "Next is making the words into lower case and then stemming . Stemming means to find the root word. suppose we have 2 seperate words \"eating\" and \"eaten\", then after stemming all of them is just \"eat\".\n",
    "\n"
   ]
  },
  {
   "cell_type": "code",
   "execution_count": null,
   "metadata": {
    "id": "uhYHlYe39QPR"
   },
   "outputs": [],
   "source": [
    "#using porterstemmer here\n",
    "stemmer = PorterStemmer()\n",
    "def stem(word):\n",
    "    return stemmer.stem(word.lower())"
   ]
  },
  {
   "cell_type": "markdown",
   "metadata": {
    "id": "UEkJIdqT5ESv"
   },
   "source": [
    "Bag of Words(BOW) method is below.\n",
    "It is a famous method in nlp for simplifying the given sentence. By this defined function below a sentence is being represented as the bag of its words. Here, grammer and word order won't be taking into account.\n",
    "\n",
    "So, BOW is a collection/group of words to represent a paretcular sentence with word count."
   ]
  },
  {
   "cell_type": "code",
   "execution_count": null,
   "metadata": {
    "id": "2w5hAtIe5Ehp"
   },
   "outputs": [],
   "source": [
    "def BagOfWords(tokenized_sentence, words):\n",
    "    sentence_words = [stem(word) for word in tokenized_sentence]\n",
    "    Bag = np.zeros(len(words), dtype=np.float32)\n",
    "    for idx, w in enumerate(words):\n",
    "        if w in sentence_words: \n",
    "            Bag[idx] = 1\n",
    "    return Bag"
   ]
  },
  {
   "cell_type": "code",
   "execution_count": null,
   "metadata": {
    "colab": {
     "base_uri": "https://localhost:8080/"
    },
    "id": "B0Fe3OMInKgE",
    "outputId": "ddd4ba13-3082-4ae6-ae15-bd5af5f63223"
   },
   "outputs": [
    {
     "data": {
      "text/plain": [
       "array([1., 0., 0., 0.], dtype=float32)"
      ]
     },
     "execution_count": 11,
     "metadata": {
      "tags": []
     },
     "output_type": "execute_result"
    }
   ],
   "source": [
    "#checking whether this is working or not\n",
    "sentence=[\"hi\",\"im\",\"gopika\",\"hello\"]\n",
    "words=[\"hi\",\"how\",\"are\",\"you\"]\n",
    "BagOfWords(sentence,words)"
   ]
  },
  {
   "cell_type": "markdown",
   "metadata": {
    "id": "uEyDqGyiV-Em"
   },
   "source": [
    "Making the list of all the words, tags and pairs(with contain patterns and their tags)"
   ]
  },
  {
   "cell_type": "code",
   "execution_count": null,
   "metadata": {
    "colab": {
     "base_uri": "https://localhost:8080/"
    },
    "id": "4_ufG0fu3_No",
    "outputId": "5a34deee-5c27-4c50-9b9d-07bcc20a1fa5"
   },
   "outputs": [
    {
     "name": "stdout",
     "output_type": "stream",
     "text": [
      "298 patterns\n",
      "47 tags: ['Asset allocation', 'AsymmetricInformation', 'Balance sheet', 'Bank Run', 'Bank capital', 'Bank reserves', 'Bargain offer', 'Bond market', 'Capital market', 'Capital ratio', 'Compound interest', 'Credit risk', 'Crowdfunding', 'Demonetisation', 'FICO score', 'Financial crisis', 'Monetary stability', 'Moral hazard', 'Net Worth', 'PRA', 'Ring Fence', 'Term life insurance', 'Thank you', 'VAR', 'bail-out', 'bank', 'bank assests', 'bitcoin', 'cryptocurrency', 'deliveryoption', 'endingnote', 'leverage', 'liquidity', 'liquidity trap', 'location', 'name', 'narrow money', 'nominal interest rate', 'passporting', 'payments', 'price of a saree', 'price of formal wear', 'real interest rate', 'shopping', 'time period', 'todaysOffers', 'welcome']\n",
      "209 unique stemmed words: [\"'s\", '2016', '`do', 'a', 'about', 'accept', 'address', 'again', 'all', 'alloc', 'an', 'and', 'ani', 'are', 'asset', 'asymmetr', 'at', 'author', 'averag', 'bail-out', 'bailout', 'balanc', 'bank', 'bargain', 'be', 'bitcoin', 'black', 'bond', 'brand', 'buy', 'by', 'bye', 'call', 'can', 'capit', 'card', 'cash', 'chatbot', 'cheap', 'cheaper', 'close', 'cloth', 'collect', 'compound', 'cost', 'countri', 'credit', 'crisi', 'critic', 'crowdfund', 'cryptocurr', 'day', 'deliv', 'deliveri', 'demonet', 'demonetis', 'do', 'doe', 'enjoy', 'enough', 'everyth', 'exactli', 'exampl', 'expens', 'experi', 'fenc', 'fico', 'financ', 'financi', 'for', 'formal', 'from', 'fun', 'glad', 'go', 'good', 'goodby', 'got', 'happen', 'happi', 'have', 'hazard', 'hello', 'help', 'here', 'hey', 'hi', 'home', 'how', 'i', 'im', 'in', 'india', 'inform', 'insur', 'interest', 'interst', 'is', 'it', 'know', 'later', 'leav', 'leverag', 'life', 'like', 'liquid', 'locat', 'm', 'market', 'mastercard', 'me', 'mean', 'meet', 'monetari', 'money', 'monitari', 'moral', 'more', 'much', 'name', 'narrow', 'net', 'networth', 'new', 'nice', 'nomin', 'occur', 'of', 'offer', 'ok', 'onli', 'open', 'option', 'or', 'our', 'pass', 'passport', 'pay', 'peopl', 'port', 'pra', 'price', 'product', 'provid', 'prudenti', 'rate', 'ratio', 'real', 'recommend', 'regul', 'reserv', 'restaur', 'ring', 'ring-fenc', 'risk', 'robot', 'run', 's', 'sare', 'say', 'score', 'see', 'session', 'sheet', 'shoe', 'shop', 'site', 'situat', 'so', 'someth', 'stabil', 'store', 'suit', 'sunday', 'support', 'take', 'tell', 'term', 'thank', 'that', 'the', 'then', 'there', 'thi', 'thing', 'till', 'time', 'to', 'today', 'trap', 'u', 'up', 'valu', 'var', 'wa', 'want', 'wear', 'what', 'when', 'where', 'which', 'who', 'will', 'work', 'worth', 'would', 'you', 'your', '’']\n"
     ]
    }
   ],
   "source": [
    "#for collecting all the words, lets create an empty list\n",
    "all_the_words = []\n",
    "#for collecting all the tags\n",
    "tags = []\n",
    "#the below pair list which will be  made filled with both patterns and their tags\n",
    "pair = []\n",
    "# loop through each sentence in our intents patterns\n",
    "for intent in intents['intents']:\n",
    "    tag = intent['tag']\n",
    "    # adding this to tag list\n",
    "    tags.append(tag)\n",
    "    for pattern in intent['patterns']:\n",
    "        # tokenizing each word in the sentence\n",
    "        w = tokenize(pattern)\n",
    "        # addding to our words list(since w is an array we need to use extend for adding the elements)\n",
    "        all_the_words.extend(w)\n",
    "        # add to pair\n",
    "        pair.append((w, tag))\n",
    "\n",
    "# stem and lower each word. So, first excluding punctuation marks\n",
    "ignore_words = ['?', '.', '!',',']\n",
    "all_the_words = [stem(w) for w in all_the_words if w not in ignore_words]\n",
    "# remove duplicates and sort\n",
    "all_the_words = sorted(set(all_the_words))\n",
    "tags = sorted(set(tags))\n",
    "\n",
    "print(len(pair), \"patterns\")\n",
    "print(len(tags), \"tags:\", tags)\n",
    "print(len(all_the_words), \"unique stemmed words:\", all_the_words)"
   ]
  },
  {
   "cell_type": "code",
   "execution_count": null,
   "metadata": {
    "colab": {
     "base_uri": "https://localhost:8080/"
    },
    "id": "uS2HDWMAqKW4",
    "outputId": "dea6b52b-cc7d-4e6d-c296-b34ddbc352c4"
   },
   "outputs": [
    {
     "name": "stdout",
     "output_type": "stream",
     "text": [
      "inputsize= 209\n",
      "outputsize= 47\n"
     ]
    }
   ],
   "source": [
    "# create training data\n",
    "X_train = []\n",
    "y_train = []\n",
    "#using a tuple to run through the pair\n",
    "for (pattern_sentence, tag) in pair:\n",
    "    # X-->is the bag of words for each pattern_sentence\n",
    "    bag = BagOfWords(pattern_sentence, all_the_words)\n",
    "    X_train.append(bag)\n",
    "    # y: PyTorch CrossEntropyLoss needs only class labels, not one-hot.so defining label\n",
    "    label = tags.index(tag)\n",
    "    y_train.append(label)\n",
    "#array\n",
    "X_train = np.array(X_train)\n",
    "y_train = np.array(y_train)\n",
    "\n",
    "# Hyper-parameters are--->\n",
    "num_epochs = 1000\n",
    "batch_size = 8\n",
    "learning_rate = 0.001\n",
    "#len(X_train[0]) means the length of 1st bag of words because they all have the same size. \n",
    "#if we want we can just print and check. But its clear here.\n",
    "input_size = len(X_train[0])\n",
    "hidden_size = 8\n",
    "output_size = len(tags)\n",
    "#lets print the values\n",
    "print(\"inputsize=\",input_size)\n",
    "print(\"outputsize=\",output_size)"
   ]
  },
  {
   "cell_type": "markdown",
   "metadata": {
    "id": "8oFk62qe1X1_"
   },
   "source": [
    "Yes they are working"
   ]
  },
  {
   "cell_type": "code",
   "execution_count": null,
   "metadata": {
    "id": "oW1PW0tsqNEL"
   },
   "outputs": [],
   "source": [
    "#traning dataset\n",
    "class ChatDataset(Dataset):\n",
    "#implementing init function\n",
    "    def __init__(self):\n",
    "      #storing the values\n",
    "        self.n_samples = len(X_train)\n",
    "        self.x_data = X_train\n",
    "        self.y_data = y_train\n",
    "\n",
    "    # support indexing such that dataset[i] can be used to get i-th sample\n",
    "    def __getitem__(self, index):\n",
    "        return self.x_data[index], self.y_data[index]\n",
    "\n",
    "    # we can call len(dataset) to return the size\n",
    "    def __len__(self):\n",
    "        return self.n_samples"
   ]
  },
  {
   "cell_type": "markdown",
   "metadata": {
    "id": "Or-oNjeSU8eC"
   },
   "source": [
    "Following is the whole set up for model buiding.\n",
    "I'm using pytorch.\n",
    "\n",
    "I'm also using Batch Normalization also for better performance."
   ]
  },
  {
   "cell_type": "code",
   "execution_count": null,
   "metadata": {
    "id": "WQIZy6Z7G6wD"
   },
   "outputs": [],
   "source": [
    "#creating a new class for our neural network\n",
    "class NeuralNetModel(nn.Module):\n",
    "  #This will be a feed forward neural network with two hidden layer \n",
    "    def __init__(self, input_size, hidden_size, num_classes):\n",
    "        super(NeuralNetModel, self).__init__()\n",
    "        #creating the firstlinear layer. This gets the input size and then the connected hiddenlayer\n",
    "        self.linearlayer1 = nn.Linear(input_size, hidden_size)\n",
    "        #applying batch normalization\n",
    "        self.bn1= nn.BatchNorm1d(hidden_size)\n",
    "        #creating the 1st hidden layer with input size as hiddensize and output size as the hidden size\n",
    "        self.linearlayer2 = nn.Linear(hidden_size, hidden_size)\n",
    "        self.bn2= nn.BatchNorm1d(hidden_size) \n",
    "        #creating the 2nd hidden layer with input size as hiddensize and output size as the num classes\n",
    "        self.linearlayer3 = nn.Linear(hidden_size, num_classes)\n",
    "        #using relu activation function\n",
    "        self.relu = nn.ReLU()\n",
    "    #implementing the forward pass\n",
    "    def forward(self, x):\n",
    "      #apply our first linear layer which gets x as input and then gives out the output\n",
    "        output = self.linearlayer1(x)\n",
    "        #activation function\n",
    "        output = self.relu(output)\n",
    "      #apply our first linear layer which gets output as input and then gives out the next output\n",
    "        output = self.linearlayer2(output)\n",
    "        #activation function\n",
    "        output = self.relu(output)\n",
    "        output = self.linearlayer3(output)\n",
    "        return output\n"
   ]
  },
  {
   "cell_type": "markdown",
   "metadata": {
    "id": "d__BSgUYOBAa"
   },
   "source": [
    "# Lets garphically visualize our model...!"
   ]
  },
  {
   "cell_type": "code",
   "execution_count": null,
   "metadata": {
    "id": "O6IrwfUEMxWV"
   },
   "outputs": [],
   "source": [
    "#suppose if Gpu is available, we can puish our model to the device. otherwise we can have in cpu itself\n",
    "device = torch.device('cuda' if torch.cuda.is_available() else 'cpu')\n",
    "model = NeuralNetModel(input_size, hidden_size, output_size).to(device)"
   ]
  },
  {
   "cell_type": "code",
   "execution_count": null,
   "metadata": {
    "colab": {
     "base_uri": "https://localhost:8080/",
     "height": 695
    },
    "id": "z9tJLGysMRk3",
    "outputId": "a403b3a9-05d2-4b42-8302-2019b9d8068a"
   },
   "outputs": [
    {
     "data": {
      "image/svg+xml": [
       "<?xml version=\"1.0\" encoding=\"UTF-8\" standalone=\"no\"?>\n",
       "<!DOCTYPE svg PUBLIC \"-//W3C//DTD SVG 1.1//EN\"\n",
       " \"http://www.w3.org/Graphics/SVG/1.1/DTD/svg11.dtd\">\n",
       "<!-- Generated by graphviz version 2.40.1 (20161225.0304)\n",
       " -->\n",
       "<!-- Title: %3 Pages: 1 -->\n",
       "<svg width=\"345pt\" height=\"506pt\"\n",
       " viewBox=\"0.00 0.00 344.50 506.00\" xmlns=\"http://www.w3.org/2000/svg\" xmlns:xlink=\"http://www.w3.org/1999/xlink\">\n",
       "<g id=\"graph0\" class=\"graph\" transform=\"scale(1 1) rotate(0) translate(4 502)\">\n",
       "<title>%3</title>\n",
       "<polygon fill=\"#ffffff\" stroke=\"transparent\" points=\"-4,4 -4,-502 340.5,-502 340.5,4 -4,4\"/>\n",
       "<!-- 139861233018136 -->\n",
       "<g id=\"node1\" class=\"node\">\n",
       "<title>139861233018136</title>\n",
       "<polygon fill=\"#caff70\" stroke=\"#000000\" points=\"214,-21 116,-21 116,0 214,0 214,-21\"/>\n",
       "<text text-anchor=\"middle\" x=\"165\" y=\"-7.4\" font-family=\"Times,serif\" font-size=\"12.00\" fill=\"#000000\">MeanBackward0</text>\n",
       "</g>\n",
       "<!-- 139861233020264 -->\n",
       "<g id=\"node2\" class=\"node\">\n",
       "<title>139861233020264</title>\n",
       "<polygon fill=\"#d3d3d3\" stroke=\"#000000\" points=\"217,-78 113,-78 113,-57 217,-57 217,-78\"/>\n",
       "<text text-anchor=\"middle\" x=\"165\" y=\"-64.4\" font-family=\"Times,serif\" font-size=\"12.00\" fill=\"#000000\">AddmmBackward</text>\n",
       "</g>\n",
       "<!-- 139861233020264&#45;&gt;139861233018136 -->\n",
       "<g id=\"edge1\" class=\"edge\">\n",
       "<title>139861233020264&#45;&gt;139861233018136</title>\n",
       "<path fill=\"none\" stroke=\"#000000\" d=\"M165,-56.7787C165,-49.6134 165,-39.9517 165,-31.3097\"/>\n",
       "<polygon fill=\"#000000\" stroke=\"#000000\" points=\"168.5001,-31.1732 165,-21.1732 161.5001,-31.1732 168.5001,-31.1732\"/>\n",
       "</g>\n",
       "<!-- 139861233019368 -->\n",
       "<g id=\"node3\" class=\"node\">\n",
       "<title>139861233019368</title>\n",
       "<polygon fill=\"#add8e6\" stroke=\"#000000\" points=\"100,-148 6,-148 6,-114 100,-114 100,-148\"/>\n",
       "<text text-anchor=\"middle\" x=\"53\" y=\"-134.4\" font-family=\"Times,serif\" font-size=\"12.00\" fill=\"#000000\">linearlayer3.bias</text>\n",
       "<text text-anchor=\"middle\" x=\"53\" y=\"-121.4\" font-family=\"Times,serif\" font-size=\"12.00\" fill=\"#000000\"> (47)</text>\n",
       "</g>\n",
       "<!-- 139861233019368&#45;&gt;139861233020264 -->\n",
       "<g id=\"edge2\" class=\"edge\">\n",
       "<title>139861233019368&#45;&gt;139861233020264</title>\n",
       "<path fill=\"none\" stroke=\"#000000\" d=\"M83.0139,-113.9832C99.8053,-104.4631 120.6018,-92.6722 137.0477,-83.3479\"/>\n",
       "<polygon fill=\"#000000\" stroke=\"#000000\" points=\"139.192,-86.1556 146.1649,-78.1788 135.7395,-80.0663 139.192,-86.1556\"/>\n",
       "</g>\n",
       "<!-- 139861233018696 -->\n",
       "<g id=\"node4\" class=\"node\">\n",
       "<title>139861233018696</title>\n",
       "<polygon fill=\"#d3d3d3\" stroke=\"#000000\" points=\"212,-141.5 118,-141.5 118,-120.5 212,-120.5 212,-141.5\"/>\n",
       "<text text-anchor=\"middle\" x=\"165\" y=\"-127.9\" font-family=\"Times,serif\" font-size=\"12.00\" fill=\"#000000\">ReluBackward0</text>\n",
       "</g>\n",
       "<!-- 139861233018696&#45;&gt;139861233020264 -->\n",
       "<g id=\"edge3\" class=\"edge\">\n",
       "<title>139861233018696&#45;&gt;139861233020264</title>\n",
       "<path fill=\"none\" stroke=\"#000000\" d=\"M165,-120.2281C165,-111.5091 165,-98.9699 165,-88.3068\"/>\n",
       "<polygon fill=\"#000000\" stroke=\"#000000\" points=\"168.5001,-88.1128 165,-78.1128 161.5001,-88.1129 168.5001,-88.1128\"/>\n",
       "</g>\n",
       "<!-- 139861233018304 -->\n",
       "<g id=\"node5\" class=\"node\">\n",
       "<title>139861233018304</title>\n",
       "<polygon fill=\"#d3d3d3\" stroke=\"#000000\" points=\"211,-211.5 107,-211.5 107,-190.5 211,-190.5 211,-211.5\"/>\n",
       "<text text-anchor=\"middle\" x=\"159\" y=\"-197.9\" font-family=\"Times,serif\" font-size=\"12.00\" fill=\"#000000\">AddmmBackward</text>\n",
       "</g>\n",
       "<!-- 139861233018304&#45;&gt;139861233018696 -->\n",
       "<g id=\"edge4\" class=\"edge\">\n",
       "<title>139861233018304&#45;&gt;139861233018696</title>\n",
       "<path fill=\"none\" stroke=\"#000000\" d=\"M159.9113,-190.3685C160.7835,-180.1925 162.1234,-164.5606 163.2093,-151.8912\"/>\n",
       "<polygon fill=\"#000000\" stroke=\"#000000\" points=\"166.7133,-151.9939 164.0802,-141.7315 159.7388,-151.3961 166.7133,-151.9939\"/>\n",
       "</g>\n",
       "<!-- 139861233019536 -->\n",
       "<g id=\"node6\" class=\"node\">\n",
       "<title>139861233019536</title>\n",
       "<polygon fill=\"#add8e6\" stroke=\"#000000\" points=\"94,-288 0,-288 0,-254 94,-254 94,-288\"/>\n",
       "<text text-anchor=\"middle\" x=\"47\" y=\"-274.4\" font-family=\"Times,serif\" font-size=\"12.00\" fill=\"#000000\">linearlayer2.bias</text>\n",
       "<text text-anchor=\"middle\" x=\"47\" y=\"-261.4\" font-family=\"Times,serif\" font-size=\"12.00\" fill=\"#000000\"> (8)</text>\n",
       "</g>\n",
       "<!-- 139861233019536&#45;&gt;139861233018304 -->\n",
       "<g id=\"edge5\" class=\"edge\">\n",
       "<title>139861233019536&#45;&gt;139861233018304</title>\n",
       "<path fill=\"none\" stroke=\"#000000\" d=\"M74.3983,-253.8761C92.3764,-242.6397 115.7307,-228.0433 133.3458,-217.0339\"/>\n",
       "<polygon fill=\"#000000\" stroke=\"#000000\" points=\"135.3504,-219.9084 141.9753,-211.6404 131.6403,-213.9724 135.3504,-219.9084\"/>\n",
       "</g>\n",
       "<!-- 139861233019648 -->\n",
       "<g id=\"node7\" class=\"node\">\n",
       "<title>139861233019648</title>\n",
       "<polygon fill=\"#d3d3d3\" stroke=\"#000000\" points=\"206,-281.5 112,-281.5 112,-260.5 206,-260.5 206,-281.5\"/>\n",
       "<text text-anchor=\"middle\" x=\"159\" y=\"-267.9\" font-family=\"Times,serif\" font-size=\"12.00\" fill=\"#000000\">ReluBackward0</text>\n",
       "</g>\n",
       "<!-- 139861233019648&#45;&gt;139861233018304 -->\n",
       "<g id=\"edge6\" class=\"edge\">\n",
       "<title>139861233019648&#45;&gt;139861233018304</title>\n",
       "<path fill=\"none\" stroke=\"#000000\" d=\"M159,-260.3685C159,-250.1925 159,-234.5606 159,-221.8912\"/>\n",
       "<polygon fill=\"#000000\" stroke=\"#000000\" points=\"162.5001,-221.7315 159,-211.7315 155.5001,-221.7316 162.5001,-221.7315\"/>\n",
       "</g>\n",
       "<!-- 139861233019760 -->\n",
       "<g id=\"node8\" class=\"node\">\n",
       "<title>139861233019760</title>\n",
       "<polygon fill=\"#d3d3d3\" stroke=\"#000000\" points=\"205,-351.5 101,-351.5 101,-330.5 205,-330.5 205,-351.5\"/>\n",
       "<text text-anchor=\"middle\" x=\"153\" y=\"-337.9\" font-family=\"Times,serif\" font-size=\"12.00\" fill=\"#000000\">AddmmBackward</text>\n",
       "</g>\n",
       "<!-- 139861233019760&#45;&gt;139861233019648 -->\n",
       "<g id=\"edge7\" class=\"edge\">\n",
       "<title>139861233019760&#45;&gt;139861233019648</title>\n",
       "<path fill=\"none\" stroke=\"#000000\" d=\"M153.9113,-330.3685C154.7835,-320.1925 156.1234,-304.5606 157.2093,-291.8912\"/>\n",
       "<polygon fill=\"#000000\" stroke=\"#000000\" points=\"160.7133,-291.9939 158.0802,-281.7315 153.7388,-291.3961 160.7133,-291.9939\"/>\n",
       "</g>\n",
       "<!-- 139861233020544 -->\n",
       "<g id=\"node9\" class=\"node\">\n",
       "<title>139861233020544</title>\n",
       "<polygon fill=\"#add8e6\" stroke=\"#000000\" points=\"149,-428 55,-428 55,-394 149,-394 149,-428\"/>\n",
       "<text text-anchor=\"middle\" x=\"102\" y=\"-414.4\" font-family=\"Times,serif\" font-size=\"12.00\" fill=\"#000000\">linearlayer1.bias</text>\n",
       "<text text-anchor=\"middle\" x=\"102\" y=\"-401.4\" font-family=\"Times,serif\" font-size=\"12.00\" fill=\"#000000\"> (8)</text>\n",
       "</g>\n",
       "<!-- 139861233020544&#45;&gt;139861233019760 -->\n",
       "<g id=\"edge8\" class=\"edge\">\n",
       "<title>139861233020544&#45;&gt;139861233019760</title>\n",
       "<path fill=\"none\" stroke=\"#000000\" d=\"M114.6067,-393.6966C122.0732,-383.4485 131.541,-370.4535 139.2063,-359.9325\"/>\n",
       "<polygon fill=\"#000000\" stroke=\"#000000\" points=\"142.078,-361.9347 145.1378,-351.7913 136.4203,-357.8126 142.078,-361.9347\"/>\n",
       "</g>\n",
       "<!-- 139861233018864 -->\n",
       "<g id=\"node10\" class=\"node\">\n",
       "<title>139861233018864</title>\n",
       "<polygon fill=\"#d3d3d3\" stroke=\"#000000\" points=\"240.5,-421.5 167.5,-421.5 167.5,-400.5 240.5,-400.5 240.5,-421.5\"/>\n",
       "<text text-anchor=\"middle\" x=\"204\" y=\"-407.9\" font-family=\"Times,serif\" font-size=\"12.00\" fill=\"#000000\">TBackward</text>\n",
       "</g>\n",
       "<!-- 139861233018864&#45;&gt;139861233019760 -->\n",
       "<g id=\"edge9\" class=\"edge\">\n",
       "<title>139861233018864&#45;&gt;139861233019760</title>\n",
       "<path fill=\"none\" stroke=\"#000000\" d=\"M196.2542,-400.3685C188.4658,-389.6786 176.2908,-372.9678 166.8394,-359.9953\"/>\n",
       "<polygon fill=\"#000000\" stroke=\"#000000\" points=\"169.5362,-357.7529 160.8187,-351.7315 163.8785,-361.8749 169.5362,-357.7529\"/>\n",
       "</g>\n",
       "<!-- 139861233017128 -->\n",
       "<g id=\"node11\" class=\"node\">\n",
       "<title>139861233017128</title>\n",
       "<polygon fill=\"#add8e6\" stroke=\"#000000\" points=\"257.5,-498 150.5,-498 150.5,-464 257.5,-464 257.5,-498\"/>\n",
       "<text text-anchor=\"middle\" x=\"204\" y=\"-484.4\" font-family=\"Times,serif\" font-size=\"12.00\" fill=\"#000000\">linearlayer1.weight</text>\n",
       "<text text-anchor=\"middle\" x=\"204\" y=\"-471.4\" font-family=\"Times,serif\" font-size=\"12.00\" fill=\"#000000\"> (8, 209)</text>\n",
       "</g>\n",
       "<!-- 139861233017128&#45;&gt;139861233018864 -->\n",
       "<g id=\"edge10\" class=\"edge\">\n",
       "<title>139861233017128&#45;&gt;139861233018864</title>\n",
       "<path fill=\"none\" stroke=\"#000000\" d=\"M204,-463.6966C204,-454.0634 204,-442.003 204,-431.8518\"/>\n",
       "<polygon fill=\"#000000\" stroke=\"#000000\" points=\"207.5001,-431.7912 204,-421.7913 200.5001,-431.7913 207.5001,-431.7912\"/>\n",
       "</g>\n",
       "<!-- 139861233019312 -->\n",
       "<g id=\"node12\" class=\"node\">\n",
       "<title>139861233019312</title>\n",
       "<polygon fill=\"#d3d3d3\" stroke=\"#000000\" points=\"308.5,-281.5 235.5,-281.5 235.5,-260.5 308.5,-260.5 308.5,-281.5\"/>\n",
       "<text text-anchor=\"middle\" x=\"272\" y=\"-267.9\" font-family=\"Times,serif\" font-size=\"12.00\" fill=\"#000000\">TBackward</text>\n",
       "</g>\n",
       "<!-- 139861233019312&#45;&gt;139861233018304 -->\n",
       "<g id=\"edge11\" class=\"edge\">\n",
       "<title>139861233019312&#45;&gt;139861233018304</title>\n",
       "<path fill=\"none\" stroke=\"#000000\" d=\"M254.8377,-260.3685C236.1456,-248.7893 206.0499,-230.1459 184.5722,-216.8412\"/>\n",
       "<polygon fill=\"#000000\" stroke=\"#000000\" points=\"186.2978,-213.793 175.9535,-211.5022 182.6114,-219.7437 186.2978,-213.793\"/>\n",
       "</g>\n",
       "<!-- 139861233019144 -->\n",
       "<g id=\"node13\" class=\"node\">\n",
       "<title>139861233019144</title>\n",
       "<polygon fill=\"#add8e6\" stroke=\"#000000\" points=\"330.5,-358 223.5,-358 223.5,-324 330.5,-324 330.5,-358\"/>\n",
       "<text text-anchor=\"middle\" x=\"277\" y=\"-344.4\" font-family=\"Times,serif\" font-size=\"12.00\" fill=\"#000000\">linearlayer2.weight</text>\n",
       "<text text-anchor=\"middle\" x=\"277\" y=\"-331.4\" font-family=\"Times,serif\" font-size=\"12.00\" fill=\"#000000\"> (8, 8)</text>\n",
       "</g>\n",
       "<!-- 139861233019144&#45;&gt;139861233019312 -->\n",
       "<g id=\"edge12\" class=\"edge\">\n",
       "<title>139861233019144&#45;&gt;139861233019312</title>\n",
       "<path fill=\"none\" stroke=\"#000000\" d=\"M275.764,-323.6966C275.076,-314.0634 274.2145,-302.003 273.4894,-291.8518\"/>\n",
       "<polygon fill=\"#000000\" stroke=\"#000000\" points=\"276.9745,-291.5165 272.7708,-281.7913 269.9923,-292.0153 276.9745,-291.5165\"/>\n",
       "</g>\n",
       "<!-- 139861233019200 -->\n",
       "<g id=\"node14\" class=\"node\">\n",
       "<title>139861233019200</title>\n",
       "<polygon fill=\"#d3d3d3\" stroke=\"#000000\" points=\"314.5,-141.5 241.5,-141.5 241.5,-120.5 314.5,-120.5 314.5,-141.5\"/>\n",
       "<text text-anchor=\"middle\" x=\"278\" y=\"-127.9\" font-family=\"Times,serif\" font-size=\"12.00\" fill=\"#000000\">TBackward</text>\n",
       "</g>\n",
       "<!-- 139861233019200&#45;&gt;139861233020264 -->\n",
       "<g id=\"edge13\" class=\"edge\">\n",
       "<title>139861233019200&#45;&gt;139861233020264</title>\n",
       "<path fill=\"none\" stroke=\"#000000\" d=\"M259.0863,-120.3715C240.9975,-110.2066 213.5019,-94.7555 192.8983,-83.1774\"/>\n",
       "<polygon fill=\"#000000\" stroke=\"#000000\" points=\"194.4078,-80.0109 183.9754,-78.1631 190.9785,-86.1134 194.4078,-80.0109\"/>\n",
       "</g>\n",
       "<!-- 139861233019480 -->\n",
       "<g id=\"node15\" class=\"node\">\n",
       "<title>139861233019480</title>\n",
       "<polygon fill=\"#add8e6\" stroke=\"#000000\" points=\"336.5,-218 229.5,-218 229.5,-184 336.5,-184 336.5,-218\"/>\n",
       "<text text-anchor=\"middle\" x=\"283\" y=\"-204.4\" font-family=\"Times,serif\" font-size=\"12.00\" fill=\"#000000\">linearlayer3.weight</text>\n",
       "<text text-anchor=\"middle\" x=\"283\" y=\"-191.4\" font-family=\"Times,serif\" font-size=\"12.00\" fill=\"#000000\"> (47, 8)</text>\n",
       "</g>\n",
       "<!-- 139861233019480&#45;&gt;139861233019200 -->\n",
       "<g id=\"edge14\" class=\"edge\">\n",
       "<title>139861233019480&#45;&gt;139861233019200</title>\n",
       "<path fill=\"none\" stroke=\"#000000\" d=\"M281.764,-183.6966C281.076,-174.0634 280.2145,-162.003 279.4894,-151.8518\"/>\n",
       "<polygon fill=\"#000000\" stroke=\"#000000\" points=\"282.9745,-151.5165 278.7708,-141.7913 275.9923,-152.0153 282.9745,-151.5165\"/>\n",
       "</g>\n",
       "</g>\n",
       "</svg>\n"
      ],
      "text/plain": [
       "<graphviz.dot.Digraph at 0x7f33fb1cc390>"
      ]
     },
     "execution_count": 17,
     "metadata": {
      "tags": []
     },
     "output_type": "execute_result"
    }
   ],
   "source": [
    "x=torch.randn(47,209)\n",
    "y=model(x)\n",
    "make_dot(y.mean(),params=dict(model.named_parameters()))"
   ]
  },
  {
   "cell_type": "markdown",
   "metadata": {
    "id": "6ygRMndsPEq1"
   },
   "source": [
    "#counting the no of parameters the model have. "
   ]
  },
  {
   "cell_type": "code",
   "execution_count": null,
   "metadata": {
    "colab": {
     "base_uri": "https://localhost:8080/"
    },
    "id": "0rhAX4SJ_2rI",
    "outputId": "774d82ef-109e-455e-c7e8-8a18c8dc469b"
   },
   "outputs": [
    {
     "data": {
      "text/plain": [
       "2207"
      ]
     },
     "execution_count": 18,
     "metadata": {
      "tags": []
     },
     "output_type": "execute_result"
    }
   ],
   "source": [
    "#counting the no of parameters it have. \n",
    "def count_parameters(model):\n",
    "  return sum(p.numel() for p in model.parameters() if p.requires_grad)\n",
    "count_parameters(model)"
   ]
  },
  {
   "cell_type": "markdown",
   "metadata": {
    "id": "W-6RPWmn262p"
   },
   "source": [
    "# Training the model"
   ]
  },
  {
   "cell_type": "code",
   "execution_count": null,
   "metadata": {
    "colab": {
     "base_uri": "https://localhost:8080/"
    },
    "id": "xP5ESzzIGpIl",
    "outputId": "f259db11-e6d1-40c4-f99c-7c2d80db1f81"
   },
   "outputs": [
    {
     "name": "stdout",
     "output_type": "stream",
     "text": [
      "Epoch [10/1000], Loss: 3.4123 And Got 101 / 2980 with accuracy 3.39\n",
      "Epoch [20/1000], Loss: 2.8758 And Got 519 / 5960 with accuracy 8.71\n",
      "Epoch [30/1000], Loss: 1.3409 And Got 1981 / 8940 with accuracy 22.16\n",
      "Epoch [40/1000], Loss: 0.7133 And Got 4462 / 11920 with accuracy 37.43\n",
      "Epoch [50/1000], Loss: 0.2193 And Got 7249 / 14900 with accuracy 48.65\n",
      "Epoch [60/1000], Loss: 0.1796 And Got 10168 / 17880 with accuracy 56.87\n",
      "Epoch [70/1000], Loss: 0.3007 And Got 13093 / 20860 with accuracy 62.77\n",
      "Epoch [80/1000], Loss: 0.0118 And Got 16016 / 23840 with accuracy 67.18\n",
      "Epoch [90/1000], Loss: 0.4350 And Got 18940 / 26820 with accuracy 70.62\n",
      "Epoch [100/1000], Loss: 0.0108 And Got 21867 / 29800 with accuracy 73.38\n",
      "Epoch [110/1000], Loss: 0.0031 And Got 24796 / 32780 with accuracy 75.64\n",
      "Epoch [120/1000], Loss: 0.2996 And Got 27720 / 35760 with accuracy 77.52\n",
      "Epoch [130/1000], Loss: 0.0056 And Got 30647 / 38740 with accuracy 79.11\n",
      "Epoch [140/1000], Loss: 0.0047 And Got 33572 / 41720 with accuracy 80.47\n",
      "Epoch [150/1000], Loss: 0.0023 And Got 36495 / 44700 with accuracy 81.64\n",
      "Epoch [160/1000], Loss: 0.0054 And Got 39421 / 47680 with accuracy 82.68\n",
      "Epoch [170/1000], Loss: 0.0102 And Got 42344 / 50660 with accuracy 83.58\n",
      "Epoch [180/1000], Loss: 0.0014 And Got 45271 / 53640 with accuracy 84.40\n",
      "Epoch [190/1000], Loss: 0.0040 And Got 48198 / 56620 with accuracy 85.13\n",
      "Epoch [200/1000], Loss: 0.0031 And Got 51124 / 59600 with accuracy 85.78\n",
      "Epoch [210/1000], Loss: 0.0012 And Got 54042 / 62580 with accuracy 86.36\n",
      "Epoch [220/1000], Loss: 0.2213 And Got 56971 / 65560 with accuracy 86.90\n",
      "Epoch [230/1000], Loss: 0.0009 And Got 59895 / 68540 with accuracy 87.39\n",
      "Epoch [240/1000], Loss: 0.0002 And Got 62824 / 71520 with accuracy 87.84\n",
      "Epoch [250/1000], Loss: 0.0011 And Got 65746 / 74500 with accuracy 88.25\n",
      "Epoch [260/1000], Loss: 0.0005 And Got 68670 / 77480 with accuracy 88.63\n",
      "Epoch [270/1000], Loss: 0.0015 And Got 71593 / 80460 with accuracy 88.98\n",
      "Epoch [280/1000], Loss: 0.0009 And Got 74514 / 83440 with accuracy 89.30\n",
      "Epoch [290/1000], Loss: 0.0002 And Got 77434 / 86420 with accuracy 89.60\n",
      "Epoch [300/1000], Loss: 0.0000 And Got 80352 / 89400 with accuracy 89.88\n",
      "Epoch [310/1000], Loss: 0.0003 And Got 83277 / 92380 with accuracy 90.15\n",
      "Epoch [320/1000], Loss: 0.0014 And Got 86193 / 95360 with accuracy 90.39\n",
      "Epoch [330/1000], Loss: 0.0000 And Got 89119 / 98340 with accuracy 90.62\n",
      "Epoch [340/1000], Loss: 0.0001 And Got 92038 / 101320 with accuracy 90.84\n",
      "Epoch [350/1000], Loss: 0.0001 And Got 94952 / 104300 with accuracy 91.04\n",
      "Epoch [360/1000], Loss: 0.0001 And Got 97879 / 107280 with accuracy 91.24\n",
      "Epoch [370/1000], Loss: 0.0006 And Got 100802 / 110260 with accuracy 91.42\n",
      "Epoch [380/1000], Loss: 0.0000 And Got 103724 / 113240 with accuracy 91.60\n",
      "Epoch [390/1000], Loss: 0.0000 And Got 106651 / 116220 with accuracy 91.77\n",
      "Epoch [400/1000], Loss: 0.0000 And Got 109576 / 119200 with accuracy 91.93\n",
      "Epoch [410/1000], Loss: 0.0004 And Got 112500 / 122180 with accuracy 92.08\n",
      "Epoch [420/1000], Loss: 0.0001 And Got 115421 / 125160 with accuracy 92.22\n",
      "Epoch [430/1000], Loss: 0.3782 And Got 118343 / 128140 with accuracy 92.35\n",
      "Epoch [440/1000], Loss: 0.0012 And Got 121269 / 131120 with accuracy 92.49\n",
      "Epoch [450/1000], Loss: 0.0000 And Got 124197 / 134100 with accuracy 92.62\n",
      "Epoch [460/1000], Loss: 0.0000 And Got 127119 / 137080 with accuracy 92.73\n",
      "Epoch [470/1000], Loss: 0.0001 And Got 130042 / 140060 with accuracy 92.85\n",
      "Epoch [480/1000], Loss: 0.0000 And Got 132970 / 143040 with accuracy 92.96\n",
      "Epoch [490/1000], Loss: 0.0000 And Got 135895 / 146020 with accuracy 93.07\n",
      "Epoch [500/1000], Loss: 0.0046 And Got 138819 / 149000 with accuracy 93.17\n",
      "Epoch [510/1000], Loss: 0.0000 And Got 141735 / 151980 with accuracy 93.26\n",
      "Epoch [520/1000], Loss: 0.0000 And Got 144658 / 154960 with accuracy 93.35\n",
      "Epoch [530/1000], Loss: 0.0000 And Got 147577 / 157940 with accuracy 93.44\n",
      "Epoch [540/1000], Loss: 0.0000 And Got 150497 / 160920 with accuracy 93.52\n",
      "Epoch [550/1000], Loss: 0.0000 And Got 153414 / 163900 with accuracy 93.60\n",
      "Epoch [560/1000], Loss: 0.0000 And Got 156334 / 166880 with accuracy 93.68\n",
      "Epoch [570/1000], Loss: 0.0000 And Got 159260 / 169860 with accuracy 93.76\n",
      "Epoch [580/1000], Loss: 0.0000 And Got 162175 / 172840 with accuracy 93.83\n",
      "Epoch [590/1000], Loss: 0.0000 And Got 165095 / 175820 with accuracy 93.90\n",
      "Epoch [600/1000], Loss: 0.0000 And Got 168011 / 178800 with accuracy 93.97\n",
      "Epoch [610/1000], Loss: 0.0000 And Got 170932 / 181780 with accuracy 94.03\n",
      "Epoch [620/1000], Loss: 0.0000 And Got 173857 / 184760 with accuracy 94.10\n",
      "Epoch [630/1000], Loss: 0.0000 And Got 176781 / 187740 with accuracy 94.16\n",
      "Epoch [640/1000], Loss: 0.0000 And Got 179698 / 190720 with accuracy 94.22\n",
      "Epoch [650/1000], Loss: 0.0000 And Got 182623 / 193700 with accuracy 94.28\n",
      "Epoch [660/1000], Loss: 0.0000 And Got 185540 / 196680 with accuracy 94.34\n",
      "Epoch [670/1000], Loss: 0.0000 And Got 188465 / 199660 with accuracy 94.39\n",
      "Epoch [680/1000], Loss: 0.0000 And Got 191389 / 202640 with accuracy 94.45\n",
      "Epoch [690/1000], Loss: 0.0000 And Got 194313 / 205620 with accuracy 94.50\n",
      "Epoch [700/1000], Loss: 0.3328 And Got 197240 / 208600 with accuracy 94.55\n",
      "Epoch [710/1000], Loss: 0.3605 And Got 200165 / 211580 with accuracy 94.60\n",
      "Epoch [720/1000], Loss: 0.0000 And Got 203090 / 214560 with accuracy 94.65\n",
      "Epoch [730/1000], Loss: 0.0000 And Got 206012 / 217540 with accuracy 94.70\n",
      "Epoch [740/1000], Loss: 0.0000 And Got 208941 / 220520 with accuracy 94.75\n",
      "Epoch [750/1000], Loss: 0.0000 And Got 211860 / 223500 with accuracy 94.79\n",
      "Epoch [760/1000], Loss: 0.0000 And Got 214784 / 226480 with accuracy 94.84\n",
      "Epoch [770/1000], Loss: 0.0000 And Got 217706 / 229460 with accuracy 94.88\n",
      "Epoch [780/1000], Loss: 0.0000 And Got 220625 / 232440 with accuracy 94.92\n",
      "Epoch [790/1000], Loss: 0.0000 And Got 223548 / 235420 with accuracy 94.96\n",
      "Epoch [800/1000], Loss: 0.0000 And Got 226465 / 238400 with accuracy 94.99\n",
      "Epoch [810/1000], Loss: 0.0000 And Got 229381 / 241380 with accuracy 95.03\n",
      "Epoch [820/1000], Loss: 0.0000 And Got 232304 / 244360 with accuracy 95.07\n",
      "Epoch [830/1000], Loss: 0.0000 And Got 235227 / 247340 with accuracy 95.10\n",
      "Epoch [840/1000], Loss: 0.0000 And Got 238152 / 250320 with accuracy 95.14\n",
      "Epoch [850/1000], Loss: 0.0000 And Got 241072 / 253300 with accuracy 95.17\n",
      "Epoch [860/1000], Loss: 0.0000 And Got 243991 / 256280 with accuracy 95.20\n",
      "Epoch [870/1000], Loss: 0.0000 And Got 246912 / 259260 with accuracy 95.24\n",
      "Epoch [880/1000], Loss: 0.0000 And Got 249834 / 262240 with accuracy 95.27\n",
      "Epoch [890/1000], Loss: 0.0000 And Got 252754 / 265220 with accuracy 95.30\n",
      "Epoch [900/1000], Loss: 0.0000 And Got 255675 / 268200 with accuracy 95.33\n",
      "Epoch [910/1000], Loss: 0.0000 And Got 258592 / 271180 with accuracy 95.36\n",
      "Epoch [920/1000], Loss: 0.0000 And Got 261517 / 274160 with accuracy 95.39\n",
      "Epoch [930/1000], Loss: 0.0000 And Got 264437 / 277140 with accuracy 95.42\n",
      "Epoch [940/1000], Loss: 0.0000 And Got 267355 / 280120 with accuracy 95.44\n",
      "Epoch [950/1000], Loss: 0.0000 And Got 270274 / 283100 with accuracy 95.47\n",
      "Epoch [960/1000], Loss: 0.0000 And Got 273189 / 286080 with accuracy 95.49\n",
      "Epoch [970/1000], Loss: 0.0000 And Got 276109 / 289060 with accuracy 95.52\n",
      "Epoch [980/1000], Loss: 0.0000 And Got 279030 / 292040 with accuracy 95.55\n",
      "Epoch [990/1000], Loss: 0.0000 And Got 281954 / 295020 with accuracy 95.57\n",
      "Epoch [1000/1000], Loss: 0.0000 And Got 284873 / 298000 with accuracy 95.59\n",
      "final Accuracy-----> Got 284873 / 298000 with accuracy 95.59\n",
      "final loss: 0.0000\n",
      "training complete. file saved to DATA.pth\n"
     ]
    }
   ],
   "source": [
    "#the training dataset, we have defined earlier.\n",
    "dataset = ChatDataset()\n",
    "train_loader = DataLoader(dataset=dataset,\n",
    "                          batch_size=batch_size,\n",
    "                          shuffle=True,\n",
    "                          num_workers=0)\n",
    "#suppose if Gpu is available, we can puish our model to the device. otherwise we can have in cpu itself\n",
    "device = torch.device('cuda' if torch.cuda.is_available() else 'cpu')\n",
    "model = NeuralNetModel(input_size, hidden_size, output_size).to(device)\n",
    "\n",
    "# Loss is CrossEntropyLoss and optimizer is Adam\n",
    "criterion = nn.CrossEntropyLoss()\n",
    "optimizer = torch.optim.Adam(model.parameters(), lr=learning_rate)\n",
    "total=0\n",
    "correct=0\n",
    "# Train the model\n",
    "for epoch in range(num_epochs):\n",
    "    for (words, labels) in train_loader:\n",
    "        words = words.to(device)\n",
    "        labels = labels.to(dtype=torch.long).to(device)\n",
    "        \n",
    "        # Forward pass\n",
    "        outputs = model(words)\n",
    "        # if y would be one-hot, we must apply\n",
    "        # labels = torch.max(labels, 1)[1]\n",
    "        loss = criterion(outputs, labels)\n",
    "        # Backward and optimize\n",
    "        optimizer.zero_grad()\n",
    "        loss.backward()\n",
    "        optimizer.step()\n",
    "        scores = model(words)\n",
    "        _, pred = scores.max(1)\n",
    "        total += len(words)\n",
    "        correct += (pred==labels).sum()\n",
    "    if (epoch+1) % 10 == 0:\n",
    "        print (f'Epoch [{epoch+1}/{num_epochs}], Loss: {loss.item():.4f} And Got {correct} / {total} with accuracy {float(correct)/float(total)*100:.2f}')\n",
    "print(f'final Accuracy-----> Got {correct} / {total} with accuracy {float(correct)/float(total)*100:.2f}') \n",
    "print(f'final loss: {loss.item():.4f}')\n",
    "\n",
    "data = {\n",
    "\"model_state\": model.state_dict(),\n",
    "\"input_size\": input_size,\n",
    "\"hidden_size\": hidden_size,\n",
    "\"output_size\": output_size,\n",
    "\"all_words\": all_the_words,\n",
    "\"tags\": tags\n",
    "}\n",
    "#storing these  in a file, this will serialise it and save it to that file named DATA.pth.\n",
    "FILE = \"DATA.pth\"\n",
    "torch.save(data, FILE)\n",
    "\n",
    "print(f'training complete. file saved to {FILE}')"
   ]
  },
  {
   "cell_type": "markdown",
   "metadata": {
    "id": "-8kXca3vy82S"
   },
   "source": [
    "loss is decreasing and accuracy is increasing in every epoch...\n",
    "\n",
    "FInal accuracy is 95.03 and final loss=0\n",
    "\n",
    "So, our model is pretty good for our data."
   ]
  },
  {
   "cell_type": "code",
   "execution_count": null,
   "metadata": {
    "colab": {
     "base_uri": "https://localhost:8080/"
    },
    "id": "zFbO0eaDv3AS",
    "outputId": "94f433b8-d40b-45d7-d42a-be9861de4c56"
   },
   "outputs": [
    {
     "data": {
      "text/plain": [
       "NeuralNetModel(\n",
       "  (linearlayer1): Linear(in_features=209, out_features=8, bias=True)\n",
       "  (bn1): BatchNorm1d(8, eps=1e-05, momentum=0.1, affine=True, track_running_stats=True)\n",
       "  (linearlayer2): Linear(in_features=8, out_features=8, bias=True)\n",
       "  (bn2): BatchNorm1d(8, eps=1e-05, momentum=0.1, affine=True, track_running_stats=True)\n",
       "  (linearlayer3): Linear(in_features=8, out_features=47, bias=True)\n",
       "  (relu): ReLU()\n",
       ")"
      ]
     },
     "execution_count": 20,
     "metadata": {
      "tags": []
     },
     "output_type": "execute_result"
    }
   ],
   "source": [
    "#loading the data we saved before\n",
    "FILE = \"DATA.pth\" \n",
    "data = torch.load(FILE)\n",
    "\n",
    "#defining values\n",
    "input_size = data[\"input_size\"] \n",
    "hidden_size = data[\"hidden_size\"] \n",
    "output_size = data[\"output_size\"] \n",
    "all_the_words = data['all_words'] \n",
    "tags = data['tags'] \n",
    "model_state = data[\"model_state\"]\n",
    "\n",
    "#lets print the model now.\n",
    "model = NeuralNetModel(input_size, hidden_size, output_size).to(device) \n",
    "model.load_state_dict(model_state) \n",
    "model.eval()"
   ]
  },
  {
   "cell_type": "markdown",
   "metadata": {
    "id": "6Q9X3pjMVz0O"
   },
   "source": [
    "Function for bargaining\n",
    "\n",
    "This **bargaining** is structured in a way that there is **no loss for the company**.\n",
    "\n",
    "Here, **there will be bargaining offer for some particular product everyday.**\n",
    "Here for today I have trained only for one product..**a ribbon** and its rated price is **30 RS**.\n",
    "\n",
    "The **real marketing trick** is that, \n",
    "The **ribbon actually cost 15 Rs**. *But they offers it at 30 Rs.* \n",
    "*Im defining that the chatbot won't accept the value told by the customer if it is less than or equal to 20 Rs.*\n",
    "*For any price above 20 Rs, it accepts it.*\n",
    "\n",
    "## So, after negotiating, if a person buys the ribbon at 20 Rs, the company gets a profit of 5 Rs.\n",
    "## Also, if a person buys the product at, say, 25 then company gets profit=10 Rs.\n",
    "\n",
    "# **Introduction of this bargaining thing will also enhance more marketing and promotion. Since there is high chance of getting more customers due to this fact and also when tehy login to website tehy may get impressed on some other product also.**"
   ]
  },
  {
   "cell_type": "code",
   "execution_count": null,
   "metadata": {
    "id": "VubKW2BlJCEM"
   },
   "outputs": [],
   "source": [
    "import random\n",
    "def bargain(value):\n",
    "    # tokenize a sentence to tokens\n",
    "    tokens = nltk.word_tokenize(value)\n",
    "    #tagging will help top understand at what category it belong to.\n",
    "    #for eg: walk is a verb phrase,one is a cardinal digit \n",
    "    tagged = nltk.pos_tag(tokens)\n",
    "    bot_name=\"FinBot\"\n",
    "    # tree representation\n",
    "    entities = nltk.chunk.ne_chunk(tagged)\n",
    "#defining the numbers to the str values\n",
    "    numbers = {\"1\": 1, \"2\": 2, \"3\": 3, \"4\": 4, \"5\": 5, \"6\": 6, \"7\": 7, \"8\": 8, \"9\": 9, \"10\" : 10,\"11\": 11,\"12\": 12,\"13\": 13,\"14\": 14,\"15\": 15,\"16\": 16,\"17\": 17,\"18\": 18,\"19\": 19,\"20\": 20,\"21\": 21,\"22\": 22,\"23\": 23,\"24\": 24,\"25\": 25,\"26\": 26,\"27\": 27,\"28\": 28,\"29\":29,\"30\": 30}\n",
    "    OptionsToReply=[\"Sorry, this is of latest fashion, Can you raise the amount a little bit\",\"This is a very special thing, we can't give you at this much less cost\",\"Oh no sorry. Please raise a little bit\"]\n",
    "    for word, wordType in entities:\n",
    "        word = stemmer.stem(word)\n",
    "#             print (word, wordType)\n",
    "        if (wordType in ['CD'] and word in numbers):\n",
    "               if numbers[word] >20:\n",
    "                 print(\"FinBot:Yes agreed! Now,you can buy the ribbon at this price\")\n",
    "               elif numbers[word] <=20:\n",
    "                 print(f\"{bot_name}: {random.choice(OptionsToReply)}\")\n",
    "               else:\n",
    "                  break"
   ]
  },
  {
   "cell_type": "markdown",
   "metadata": {
    "id": "F2QAaZJfKiBn"
   },
   "source": [
    "checking the bargaining model "
   ]
  },
  {
   "cell_type": "code",
   "execution_count": null,
   "metadata": {
    "colab": {
     "base_uri": "https://localhost:8080/"
    },
    "id": "FngKg-OPsbKq",
    "outputId": "c31e553e-e681-4858-fea5-5afee3cf63ec"
   },
   "outputs": [
    {
     "name": "stdout",
     "output_type": "stream",
     "text": [
      "FinBot: This is a very special thing, we can't give you at this much less cost\n"
     ]
    }
   ],
   "source": [
    "bargain('15')"
   ]
  },
  {
   "cell_type": "code",
   "execution_count": null,
   "metadata": {
    "colab": {
     "base_uri": "https://localhost:8080/"
    },
    "id": "Lab_2PPcsluz",
    "outputId": "5d17a48a-d50b-46be-9270-1099cabd9d5a"
   },
   "outputs": [
    {
     "name": "stdout",
     "output_type": "stream",
     "text": [
      "FinBot: This is a very special thing, we can't give you at this much less cost\n"
     ]
    }
   ],
   "source": [
    "bargain('19')"
   ]
  },
  {
   "cell_type": "code",
   "execution_count": null,
   "metadata": {
    "colab": {
     "base_uri": "https://localhost:8080/"
    },
    "id": "43wMKbKVsp-m",
    "outputId": "12e90436-28ec-4a36-ab61-f73eaf9a33e4"
   },
   "outputs": [
    {
     "name": "stdout",
     "output_type": "stream",
     "text": [
      "FinBot: Sorry, this is of latest fashion, Can you raise the amount a little bit\n"
     ]
    }
   ],
   "source": [
    "bargain('20')"
   ]
  },
  {
   "cell_type": "code",
   "execution_count": null,
   "metadata": {
    "colab": {
     "base_uri": "https://localhost:8080/"
    },
    "id": "-Y1n5TUKstk0",
    "outputId": "3b5d6428-ebde-4635-f255-ecce168b135a"
   },
   "outputs": [
    {
     "name": "stdout",
     "output_type": "stream",
     "text": [
      "FinBot:Yes agreed! Now,you can buy the ribbon at this price\n"
     ]
    }
   ],
   "source": [
    "bargain('25')"
   ]
  },
  {
   "cell_type": "code",
   "execution_count": null,
   "metadata": {
    "colab": {
     "base_uri": "https://localhost:8080/"
    },
    "id": "wS0JhRA3s0qp",
    "outputId": "2acd29d4-cbfe-48d0-85eb-b1492e122123"
   },
   "outputs": [
    {
     "name": "stdout",
     "output_type": "stream",
     "text": [
      "FinBot:Yes agreed! Now,you can buy the ribbon at this price\n"
     ]
    }
   ],
   "source": [
    "bargain('29')"
   ]
  },
  {
   "cell_type": "markdown",
   "metadata": {
    "id": "32-LEb0gs4hG"
   },
   "source": [
    "# Yes, bargaining works....!"
   ]
  },
  {
   "cell_type": "markdown",
   "metadata": {
    "id": "sSKyJWSCtDUt"
   },
   "source": [
    "Now lets try talking with the chatbot.\n",
    "\n",
    "**Conditions apply for chatbot**\n",
    "\n",
    "1.   It will only bargain if we give input as just the digit\n",
    "     for example: 28.\n",
    "\n",
    "     Also, only for one product there is bargaining offer. This is actually a technique to achive more cutomers to that shop.\n",
    "     \n",
    "     (They will enter the webiste for bargaining by thinking that they can get a product in the money they think. But, the fact is that when they visit the website they will see new collections. So, by normal human behaviour, there is high probability of buying some another product also by the same customer.)\n",
    "2.   This chatbot is specifically a digital assistant in an ecommerce website of a shop which sell clothes. Currently i have provided details of the only two dresses. But it gives good results when I use key terms like 'cost','price' etc.\n",
    "3.   It will also talk about the shopping time, delivery, payments, location of the shop etc.\n",
    "\n",
    "the chatbot is not trained to talk about everything. But is trained with some relevant and important and some difficult terms that are used in financial markets..eg: cryptocurrency,bitcoin,crowd funding,leverage,bank, etc-\n",
    "\n",
    "\n",
    "\n",
    "This can be trained for more terms also. Just assigning in the dataset will work nicely.\n",
    "\n",
    "\n"
   ]
  },
  {
   "cell_type": "markdown",
   "metadata": {
    "id": "DTRBCsBxqvBH"
   },
   "source": [
    "# **Let's chat**"
   ]
  },
  {
   "cell_type": "code",
   "execution_count": null,
   "metadata": {
    "colab": {
     "base_uri": "https://localhost:8080/"
    },
    "id": "TKcvh6hfGpL4",
    "outputId": "45b66e88-1eb8-4f71-ba43-cc819ee9d88a"
   },
   "outputs": [
    {
     "name": "stdout",
     "output_type": "stream",
     "text": [
      "Enter Your Name: GopikaSR\n",
      "FinBot:Hey, Let's chat! (type 'quit' to exit)Also when you start bargaining give digits\n",
      "GopikaSR:Hello\n",
      "FinBot: Hello\n",
      "GopikaSR:Who are you?\n",
      "FinBot: It’s FinBot here, a digital+financial assistant to help you out\n",
      "GopikaSR:Can I buy something?\n",
      "FinBot: Ofcourse, there are new offers for you, fantastic selections, choose what interests you!\n",
      "GopikaSR:Okay, when will the shop be open?\n",
      "FinBot: Our shop centre will be open from 9 am-9pm in all the days\n",
      "GopikaSR:What is the price of a saree?\n",
      "FinBot: We have collections of trending sarees ranging from 500Rs to 10000 Rs\n",
      "GopikaSR:Where are you located?\n",
      "FinBot: We are situated at the intersection of  state Alley and Techno Avenue in Delhi, India\n",
      "GopikaSR:Can I bargain today?\n",
      "FinBot: yes, today you can bargaining for a ribbon. its rated price is 30 Rs\n",
      "GopikaSR:15\n",
      "FinBot: Sorry, this is of latest fashion, Can you raise the amount a little bit\n",
      "GopikaSR:17\n",
      "FinBot: Sorry, this is of latest fashion, Can you raise the amount a little bit\n",
      "GopikaSR:19\n",
      "FinBot: Oh no sorry. Please raise a little bit\n",
      "GopikaSR:20\n",
      "FinBot: Oh no sorry. Please raise a little bit\n",
      "GopikaSR:23\n",
      "FinBot:Yes agreed! Now,you can buy the ribbon at this price\n",
      "GopikaSR:Nice to meet you\n",
      "FinBot:  wish you a good day! Hope to have a talk with you later\n",
      "GopikaSR:What is a bitcoin?\n",
      "FinBot: Bitcoin is a cryptocurrency created in 2009. Marketplaces called “bitcoin exchanges” allow people to buy or sell bitcoins using different currencies\n",
      "GopikaSR:What is cryptocurrency?\n",
      "FinBot: A cryptocurrency is a digital or virtual currency designed to work as a medium of exchange\n",
      "GopikaSR:Do you know crowdfunding?\n",
      "FinBot:  Crowdfunding is the use of small amounts of capital from a large number of individuals to finance a new business venture.\n",
      "GopikaSR:leverage?\n",
      "FinBot: Financial leverage which is also known as leverage or trading on equity, refers to the use of debt to acquire additional assets.\n",
      "GopikaSR:What is bank run?\n",
      "FinBot: A situation in which depositors withdraw funds from a commercial bank because they fear that it may go bankrupt and not honour its liabilities such as the deposits of the bank's savers.\n",
      "GopikaSR:Tell me about bank assets.\n",
      "FinBot: Assets are “owned” by the bank e.g. cash, balances at Bank of England, loans (Advances), securities (e.g. Bonds) and fixed assets.\n",
      "GopikaSR:what is mean by term life insurance?\n",
      "FinBot: If you die within the set term, your beneficiaries receive a payout. If you don't,the policy expires with no value.\n",
      "GopikaSR:net worth mean?\n",
      "FinBot: Your networth is simply the difference between your assets\n",
      "GopikaSR:I'm leaving\n",
      "FinBot: I do not understand...\n",
      "GopikaSR:bye\n",
      "FinBot: Hey, Thank you for visiting\n",
      "GopikaSR:quit\n"
     ]
    }
   ],
   "source": [
    "bot_name = \"FinBot\"\n",
    "#for taking the input\n",
    "name=input(\"Enter Your Name: \")\n",
    "print(\"FinBot:Hey, Let's chat! (type 'quit' to exit)Also when you start bargaining give digits\")\n",
    "while True:\n",
    "  #once the person types his name, then from the next chat onwards the name will be shown\n",
    "    sent=input(name+':')\n",
    "    if sent == \"quit\":\n",
    "        break\n",
    "    #since im going to offer bargaining offer for only one product and its rated price is 30 Rs.\n",
    "    #However the person will tell only numbers ranging from 1 to 30\n",
    "    if sent in [\"1\",\"2\",\"3\",\"4\",\"5\",\"6\",\"7\",\"8\",\"9\",\"10\",\"11\",\"12\",\"13\",\"14\",\"15\",\"16\",\"17\",\"18\",\"19\",\"20\",\"21\",\"22\",\"23\",\"24\",\"25\",\"26\",\"27\",\"28\",\"29\",\"30\"]:\n",
    "       bargain(sent)\n",
    "    else:\n",
    "        sent = tokenize(sent)\n",
    "        X = BagOfWords(sent, all_the_words)\n",
    "        X = X.reshape(1, X.shape[0])\n",
    "        X = torch.from_numpy(X).to(device)\n",
    "\n",
    "        output = model(X)\n",
    "        _, predicted = torch.max(output, dim=1)\n",
    "\n",
    "        tag = tags[predicted.item()]\n",
    "\n",
    "        probs = torch.softmax(output, dim=1)\n",
    "        prob = probs[0][predicted.item()]\n",
    "        if prob.item() > 0.75:\n",
    "            for intent in intents['intents']:\n",
    "                if tag == intent[\"tag\"]:\n",
    "                    print(f\"{bot_name}: {random.choice(intent['responses'])}\")\n",
    "        else:\n",
    "            print(f\"{bot_name}: I do not understand...\")"
   ]
  }
 ],
 "metadata": {
  "colab": {
   "collapsed_sections": [],
   "name": "CodeChatBot.ipynb",
   "provenance": []
  },
  "kernelspec": {
   "display_name": "Python 3 (ipykernel)",
   "language": "python",
   "name": "python3"
  },
  "language_info": {
   "codemirror_mode": {
    "name": "ipython",
    "version": 3
   },
   "file_extension": ".py",
   "mimetype": "text/x-python",
   "name": "python",
   "nbconvert_exporter": "python",
   "pygments_lexer": "ipython3",
   "version": "3.10.2"
  }
 },
 "nbformat": 4,
 "nbformat_minor": 1
}
