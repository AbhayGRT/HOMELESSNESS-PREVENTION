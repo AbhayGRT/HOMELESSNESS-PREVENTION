{
 "cells": [
  {
   "cell_type": "markdown",
   "id": "7b4a37e0",
   "metadata": {},
   "source": [
    "# Financial News Article Summarizer\n",
    "## A Python-based Solution for Extracting Insights and Analyzing Sentiment"
   ]
  },
  {
   "cell_type": "markdown",
   "id": "45cf7d13",
   "metadata": {},
   "source": [
    "In this project, I have built a financial news article summarizer in Python. \n",
    "The goal of this project is to extract useful information from news articles and provide a summary of their contents, as well as analyze the sentiment of the article. \n",
    "\n",
    "To achieve this, I have used several technologies and libraries, including the newspaper library for article extraction and natural language processing, the TextBlob library for sentiment analysis, and the nltk library for additional natural language processing functionality. \n",
    "\n",
    "My code is designed to be simple and easily modifiable, allowing for future improvements and customization."
   ]
  },
  {
   "cell_type": "code",
   "execution_count": 1,
   "id": "71316c44",
   "metadata": {},
   "outputs": [
    {
     "ename": "ModuleNotFoundError",
     "evalue": "No module named 'nltk'",
     "output_type": "error",
     "traceback": [
      "\u001b[1;31m---------------------------------------------------------------------------\u001b[0m",
      "\u001b[1;31mModuleNotFoundError\u001b[0m                       Traceback (most recent call last)",
      "Input \u001b[1;32mIn [1]\u001b[0m, in \u001b[0;36m<cell line: 2>\u001b[1;34m()\u001b[0m\n\u001b[0;32m      1\u001b[0m \u001b[38;5;66;03m# Import necessary libraries\u001b[39;00m\n\u001b[1;32m----> 2\u001b[0m \u001b[38;5;28;01mimport\u001b[39;00m \u001b[38;5;21;01mnltk\u001b[39;00m\n\u001b[0;32m      3\u001b[0m \u001b[38;5;28;01mfrom\u001b[39;00m \u001b[38;5;21;01mtextblob\u001b[39;00m \u001b[38;5;28;01mimport\u001b[39;00m TextBlob\n\u001b[0;32m      4\u001b[0m \u001b[38;5;28;01mfrom\u001b[39;00m \u001b[38;5;21;01mnewspaper\u001b[39;00m \u001b[38;5;28;01mimport\u001b[39;00m Article\n",
      "\u001b[1;31mModuleNotFoundError\u001b[0m: No module named 'nltk'"
     ]
    }
   ],
   "source": [
    "# Import necessary libraries\n",
    "import nltk\n",
    "from textblob import TextBlob\n",
    "from newspaper import Article"
   ]
  },
  {
   "cell_type": "code",
   "execution_count": null,
   "id": "86741f11",
   "metadata": {},
   "outputs": [
    {
     "name": "stderr",
     "output_type": "stream",
     "text": [
      "[nltk_data] Downloading package punkt to\n",
      "[nltk_data]     C:\\Users\\abhay\\AppData\\Roaming\\nltk_data...\n",
      "[nltk_data]   Package punkt is already up-to-date!\n"
     ]
    },
    {
     "data": {
      "text/plain": [
       "True"
      ]
     },
     "execution_count": 5,
     "metadata": {},
     "output_type": "execute_result"
    }
   ],
   "source": [
    "# Download required NLTK data\n",
    "nltk.download('punkt')"
   ]
  },
  {
   "cell_type": "code",
   "execution_count": null,
   "id": "74b1d765",
   "metadata": {},
   "outputs": [],
   "source": [
    "# Your paragraph\n",
    "paragraph = \"\"\"\n",
    "Financial Plan to Purchase a Home Valued at 5747 INR in 4 Years\n",
    "\n",
    "Income:\n",
    "\n",
    "Current salary: 1111111111 INR\n",
    "Expenses:\n",
    "\n",
    "Monthly expenses: 2222 INR\n",
    "Savings Goal:\n",
    "\n",
    "Down payment (20% of home value): 1149 INR\n",
    "Closing costs (estimated): 1149 INR\n",
    "Emergency fund (3-6 months of expenses): 6666 - 13332 INR\n",
    "Total Savings Goal: 23294 - 26114 INR\n",
    "\n",
    "Savings Plan:\n",
    "\n",
    "Increase income through side hustling: Utilize your skills in \"Others\" to earn additional income. Conservatively aim to earn an extra 1111 INR per month.\n",
    "Reduce expenses: Analyze your monthly expenses and identify areas where you can cut back. Aim to reduce expenses by 111 INR per month.\n",
    "Regular monthly savings: After accounting for increased income and reduced expenses, you have approximately 2222 INR available for savings per month.\n",
    "Timeline:\n",
    "\n",
    "48 months (4 years)\n",
    "Savings Calculations:\n",
    "\n",
    "Monthly savings: 2222 INR\n",
    "Additional income from side hustling: 1111 INR\n",
    "Reduced expenses: 111 INR\n",
    "Total monthly savings: 3444 INR\n",
    "Projected Savings:\n",
    "4 years x 12 months/year x 3444 INR/month = 163488 INR\n",
    "Additional Considerations:\n",
    "\n",
    "TB Disease: Consider seeking financial assistance from organizations that support individuals with TB.\n",
    "Down Payment Assistance Programs: Explore government or non-profit programs that provide down payment assistance to first-time homebuyers.\n",
    "Interest Rates: Factor in interest rates when calculating your mortgage payments. Higher interest rates will increase the monthly cost of your mortgage.\n",
    "Debt Management: If you have any outstanding debts, prioritize paying them off to improve your credit score and qualify for a better mortgage rate.\n",
    "Revised Savings Plan (with Down Payment Assistance):\n",
    "\n",
    "Down payment reduced by 50%: 574 INR\n",
    "Closing costs remain the same: 1149 INR\n",
    "Emergency fund: 6666 - 13332 INR\n",
    "Total Savings Goal: 13981 - 20247 INR\n",
    "\n",
    "Projected Savings (with Down Payment Assistance):\n",
    "\n",
    "4 years x 12 months/year x 3444 INR/month = 163488 INR\n",
    "Down payment assistance: 574 INR\n",
    "Revised Total Savings Goal: 164062 INR\n",
    "Conclusion:\n",
    "\n",
    "By implementing this optimized financial plan, you can achieve your goal of purchasing a home worth 5747 INR within 4 years. By increasing your income, reducing expenses, and exploring down payment assistance options, you can bridge the gap between your current savings and your target. Remember to regularly monitor your progress and make adjustments as needed.\n",
    "\"\"\"\n",
    "\n"
   ]
  },
  {
   "cell_type": "code",
   "execution_count": null,
   "id": "6ab4ed23",
   "metadata": {},
   "outputs": [
    {
     "name": "stdout",
     "output_type": "stream",
     "text": [
      "Summary:\n",
      "\n",
      "Financial Plan to Purchase a Home Valued at 5747 INR in 4 Years\n",
      "\n",
      "Income:\n",
      "\n",
      "Current salary: 1111111111 INR\n",
      "Expenses:\n",
      "\n",
      "Monthly expenses: 2222 INR\n",
      "Savings Goal:\n",
      "\n",
      "Down payment (20% of home value): 1149 INR\n",
      "Closing costs (estimated): 1149 INR\n",
      "Emergency fund (3-6 months of expenses): 6666 - 13332 INR\n",
      "Total Savings Goal: 23294 - 26114 INR\n",
      "\n",
      "Savings Plan:\n",
      "\n",
      "Increase income through side hustling: Utilize your skills in \"Others\" to earn additional income.\n",
      "Conservatively aim to earn an extra 1111 INR per month.\n",
      "Reduce expenses: Analyze your monthly expenses and identify areas where you can cut back.\n",
      "Aim to reduce expenses by 111 INR per month.\n",
      "Regular monthly savings: After accounting for increased income and reduced expenses, you have approximately 2222 INR available for savings per month.\n"
     ]
    }
   ],
   "source": [
    "from textblob import TextBlob\n",
    "\n",
    "# Create a TextBlob object\n",
    "blob = TextBlob(paragraph)\n",
    "\n",
    "# Get the summary\n",
    "summary = blob.sentences[:5]  \n",
    "\n",
    "# Print the summary\n",
    "print(\"Summary:\")\n",
    "for sentence in summary:\n",
    "    print(sentence)\n",
    "\n"
   ]
  },
  {
   "cell_type": "code",
   "execution_count": null,
   "id": "785afe27",
   "metadata": {},
   "outputs": [],
   "source": [
    "import pickle\n",
    "\n",
    "# Save the trained model to a pickle file\n",
    "with open('trained_model.pkl', 'wb') as file:\n",
    "    pickle.dump(model,file)"
   ]
  }
 ],
 "metadata": {
  "kernelspec": {
   "display_name": "Python 3 (ipykernel)",
   "language": "python",
   "name": "python3"
  },
  "language_info": {
   "codemirror_mode": {
    "name": "ipython",
    "version": 3
   },
   "file_extension": ".py",
   "mimetype": "text/x-python",
   "name": "python",
   "nbconvert_exporter": "python",
   "pygments_lexer": "ipython3",
   "version": "3.10.6"
  }
 },
 "nbformat": 4,
 "nbformat_minor": 5
}
